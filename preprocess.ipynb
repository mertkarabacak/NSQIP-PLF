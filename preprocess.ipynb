{
 "cells": [
  {
   "cell_type": "code",
   "execution_count": null,
   "id": "4AZmJ6jfWEN4",
   "metadata": {
    "colab": {
     "base_uri": "https://localhost:8080/"
    },
    "id": "4AZmJ6jfWEN4",
    "outputId": "47b2aeb7-b420-4b30-eeab-b4fa9dd1db10"
   },
   "outputs": [],
   "source": [
    "from google.colab import drive\n",
    "drive.mount('/content/drive')"
   ]
  },
  {
   "cell_type": "code",
   "execution_count": null,
   "id": "45bff18b",
   "metadata": {
    "id": "45bff18b"
   },
   "outputs": [],
   "source": [
    "import numpy as np\n",
    "import pandas as pd\n",
    "from pandas.api.types import CategoricalDtype\n",
    "\n",
    "from sklearn.preprocessing import OneHotEncoder\n",
    "from sklearn.preprocessing import LabelEncoder\n",
    "from sklearn.preprocessing import MinMaxScaler\n",
    "from sklearn.impute import KNNImputer\n",
    "\n",
    "from matplotlib import pyplot as plt\n",
    "\n",
    "pd.set_option('display.max_rows', None)"
   ]
  },
  {
   "cell_type": "code",
   "execution_count": null,
   "id": "721c822b",
   "metadata": {
    "colab": {
     "base_uri": "https://localhost:8080/",
     "height": 681
    },
    "id": "721c822b",
    "outputId": "6503721b-eddf-4e71-a5c9-8ff38c5e3ece"
   },
   "outputs": [],
   "source": [
    "#Open csv file.\n",
    "\n",
    "data = pd.read_csv(\"/content/drive/MyDrive/NSQIP-PLF/plf_combined.csv\", index_col=0, na_values = -99)\n",
    "data.head()"
   ]
  },
  {
   "cell_type": "code",
   "execution_count": null,
   "id": "2ddf793b",
   "metadata": {
    "colab": {
     "base_uri": "https://localhost:8080/"
    },
    "id": "2ddf793b",
    "outputId": "e6038bdb-ca5b-4336-a0f6-cd6f8acba508"
   },
   "outputs": [],
   "source": [
    "#See all columns.\n",
    "\n",
    "print(list(data.columns))"
   ]
  },
  {
   "cell_type": "code",
   "execution_count": null,
   "id": "6b72f120",
   "metadata": {
    "colab": {
     "base_uri": "https://localhost:8080/"
    },
    "id": "6b72f120",
    "outputId": "039d0449-007a-4148-e197-16bf67586245"
   },
   "outputs": [],
   "source": [
    "#Check data shape.\n",
    "\n",
    "data.shape"
   ]
  },
  {
   "cell_type": "code",
   "execution_count": null,
   "id": "a143c94a",
   "metadata": {
    "id": "a143c94a"
   },
   "outputs": [],
   "source": [
    "#Define variables of interest (predictor variables, inclusion/exclusion criteria, outcomes of interest).\n",
    "\n",
    "variables = ['SEX', 'RACE_NEW', 'ETHNICITY_HISPANIC', 'CPT', 'INOUT', 'TRANST', 'AGE', 'DISCHDEST', 'ANESTHES', 'SURGSPEC', 'ELECTSURG', 'HEIGHT', 'WEIGHT', 'DIABETES', 'SMOKE', 'DYSPNEA', 'FNSTATUS2', 'VENTILAT', 'HXCOPD', 'ASCITES', 'HXCHF', 'HYPERMED', 'RENAFAIL', 'DIALYSIS', 'DISCANCR', 'WNDINF', 'STEROID', 'WTLOSS', 'BLEEDDIS', 'TRANSFUS', 'PRSEPIS', 'PRSODM', 'PRBUN', 'PRCREAT', 'PRALBUM', 'PRBILI', 'PRSGOT', 'PRALKPH', 'PRWBC', 'PRHCT', 'PRPLATE', 'PRPTT', 'PRINR', 'PRPT', 'OTHERCPT1', 'OTHERCPT2', 'OTHERCPT3', 'OTHERCPT4', 'OTHERCPT5', 'OTHERCPT6', 'OTHERCPT7', 'OTHERCPT8', 'OTHERCPT9', 'OTHERCPT10', 'CONCPT1', 'CONCPT2', 'CONCPT3', 'CONCPT4', 'CONCPT5', 'CONCPT6', 'CONCPT7', 'CONCPT8', 'CONCPT9', 'CONCPT10', 'EMERGNCY', 'WNDCLAS', 'ASACLAS', 'OPTIME', 'TOTHLOS', 'HTOODAY', 'NSUPINFEC', 'NWNDINFD', 'NORGSPCSSI', 'NDEHIS', 'NOUPNEUMO', 'NREINTUB', 'NPULEMBOL', 'NFAILWEAN', 'NRENAINSF', 'NOPRENAFL', 'NURNINFEC', 'NCNSCVA', 'NCDARREST', 'NCDMI', 'NOTHBLEED', 'NOTHDVT', 'NOTHSYSEP', 'NOTHSESHOCK', 'PODIAG', 'PODIAG10', 'STILLINHOSP', 'READMISSION1']"
   ]
  },
  {
   "cell_type": "code",
   "execution_count": null,
   "id": "a21a408c",
   "metadata": {
    "colab": {
     "base_uri": "https://localhost:8080/"
    },
    "id": "a21a408c",
    "outputId": "1f3bed4d-d65b-4915-a367-e1135f6a9c0a"
   },
   "outputs": [],
   "source": [
    "#Remove unwanted columns and check data shape.\n",
    "\n",
    "data = data[variables]\n",
    "\n",
    "data.shape"
   ]
  },
  {
   "cell_type": "code",
   "execution_count": null,
   "id": "N-j6Rc6zvAiu",
   "metadata": {
    "id": "N-j6Rc6zvAiu"
   },
   "outputs": [],
   "source": [
    "#See the ICD codes' unique value counts for the patient cohort.\n",
    "\n",
    "icd_codes_df = data['PODIAG10'].value_counts(normalize=False, dropna=False).to_frame()\n",
    "icd_codes_index = icd_codes_df.index.tolist()"
   ]
  },
  {
   "cell_type": "code",
   "execution_count": null,
   "id": "dOWooTUzvBJT",
   "metadata": {
    "id": "dOWooTUzvBJT"
   },
   "outputs": [],
   "source": [
    "#Exclude patients with ICD codes that were used less than 10 in the patient population.\n",
    "\n",
    "icd_codes_df = data['PODIAG10'].value_counts(normalize=False, dropna=False).to_frame()\n",
    "\n",
    "icd_codes_df.columns =['Value']\n",
    "\n",
    "icd_codes_df = icd_codes_df[icd_codes_df['Value'] >= 10]\n",
    "\n",
    "icd_to_include = icd_codes_df.index.tolist()\n",
    "\n",
    "data = data[data.PODIAG10.isin(icd_to_include)]"
   ]
  },
  {
   "cell_type": "code",
   "execution_count": null,
   "id": "Gp7RsJE-vE4T",
   "metadata": {
    "id": "Gp7RsJE-vE4T"
   },
   "outputs": [],
   "source": [
    "#Get the descriptions for ICD codes.\n",
    "\n",
    "icd10 = pd.read_csv(\"/content/drive/MyDrive/NSQIP-PLF/icd10_descriptions.csv\", index_col = 'PODIAG10', encoding = 'latin1', low_memory = False)\n",
    "icd10 = icd10.filter(items = icd_to_include, axis=0)"
   ]
  },
  {
   "cell_type": "code",
   "execution_count": null,
   "id": "bfXn57f5vIhb",
   "metadata": {
    "id": "bfXn57f5vIhb"
   },
   "outputs": [],
   "source": [
    "#Save the ICD codes with descriptions and value counts.\n",
    "\n",
    "icd = pd.concat([icd10, icd_codes_df], axis=1)\n",
    "icd.to_csv('/content/drive/MyDrive/NSQIP-PLF/icd.csv')"
   ]
  },
  {
   "cell_type": "code",
   "execution_count": null,
   "id": "W-ZGghQhvLi1",
   "metadata": {
    "id": "W-ZGghQhvLi1"
   },
   "outputs": [],
   "source": [
    "#Review the ICD table for excluding patients with exclude patients diagnosed with a fracture, neoplasm, infection, instrumentation related complications or lumbar/thoracic/sacral site diagnoses.\n",
    "\n",
    "icd_to_exclude = ['M41.9' , 'T84.226A' , 'T84.216A' , 'C79.51' , 'T84.296A' , 'M71.38' , 'M46.26' , 'M48.56XA' , 'T84.84XA' , 'M84.58XA' , 'M41.85' , 'M41.26' , 'M41.56' , 'S32.009K' , 'Z98.1' , 'T84.498A' , 'M84.48XA' , 'S32.011A' , 'M41.25' , 'T84.038A' , 'G06.1' , 'M80.08XA' , 'T84.89XA' , 'S32.012A' , 'M40.205' , 'M41.87' , 'S32.021A' , 'S22.089A' , 'S32.041A' , 'S32.022A' , 'M80.88XA' , 'M41.80' , 'S32.059A' , 'M41.50' , 'S32.031A' , 'M96.3' , 'S32.010A' , 'S32.039A' , 'M40.209' , 'M41.35' , 'S32.032A' , 'M46.27' , 'M48.54XA' , 'M40.295' , 'S32.009A' , 'M71.30' , 'S32.042A' , 'S32.001A' , 'T84.63XA' , 'C79.49' , 'S22.080A' , 'S32.029A' , 'C41.2' , 'S32.048A' , 'T84.418A' , 'T84.098A' , 'M48.57XA' , 'M41.125' , 'T85.698A' , 'G06.2' , 'S32.058A' , 'S32.030A' , 'S22.088A' , 'S22.081A' , 'S32.018A' , 'M40.05' , 'M41.55' , 'T84.428A' , 'S32.10XA' , 'M12.88' , 'M41' , 'M96.0' , 'M41.86' , 'S32.019A' , 'S32.049A']\n",
    "\n",
    "data = data[~data.PODIAG10.isin(icd_to_exclude)]"
   ]
  },
  {
   "cell_type": "code",
   "execution_count": null,
   "id": "PZhZsFCmvNBR",
   "metadata": {
    "colab": {
     "base_uri": "https://localhost:8080/"
    },
    "id": "PZhZsFCmvNBR",
    "outputId": "17ad3d81-9019-48c1-e60f-a10d6819e1d3"
   },
   "outputs": [],
   "source": [
    "#Drop patients with missing ICD codes.\n",
    "\n",
    "data = data[data['PODIAG10'].notna()]\n",
    "\n",
    "data.shape"
   ]
  },
  {
   "cell_type": "code",
   "execution_count": null,
   "id": "k9R4ndnVvOm5",
   "metadata": {
    "colab": {
     "base_uri": "https://localhost:8080/"
    },
    "id": "k9R4ndnVvOm5",
    "outputId": "7dbddd52-b50f-4370-e674-5ff8aa1aa5ef"
   },
   "outputs": [],
   "source": [
    "#Check data for ICD codes.\n",
    "\n",
    "data['PODIAG10'].value_counts(normalize=False, dropna=False)"
   ]
  },
  {
   "cell_type": "code",
   "execution_count": null,
   "id": "lrQkyLFr3jcd",
   "metadata": {
    "colab": {
     "base_uri": "https://localhost:8080/"
    },
    "id": "lrQkyLFr3jcd",
    "outputId": "91ee7f38-0199-49f3-93db-cb5461ce9409"
   },
   "outputs": [],
   "source": [
    "#Define the CPT to codes to exclude (anterior cervical procedures, thoracic and/or lumbar fusion, revision, intraspinal lesion).\n",
    "\n",
    "data.loc[data['CPT'] == 22800, 'CPT_EX'] = 'Yes'\n",
    "data.loc[data['CPT'] == 22802, 'CPT_EX'] = 'Yes'\n",
    "data.loc[data['CPT'] == 22804, 'CPT_EX'] = 'Yes'\n",
    "data.loc[data['CPT'] == 22808, 'CPT_EX'] = 'Yes'\n",
    "data.loc[data['CPT'] == 22810, 'CPT_EX'] = 'Yes'\n",
    "data.loc[data['CPT'] == 22812, 'CPT_EX'] = 'Yes'\n",
    "data.loc[data['CPT'] == 22849, 'CPT_EX'] = 'Yes'\n",
    "data.loc[data['CPT'] == 22850, 'CPT_EX'] = 'Yes'\n",
    "data.loc[data['CPT'] == 22852, 'CPT_EX'] = 'Yes'\n",
    "data.loc[data['CPT'] == 22855, 'CPT_EX'] = 'Yes'\n",
    "data.loc[data['CPT'] == 22862, 'CPT_EX'] = 'Yes'\n",
    "data.loc[data['CPT'] == 22865, 'CPT_EX'] = 'Yes'\n",
    "\n",
    "data.loc[data['CONCPT1'] == 22800, 'CPT_EX'] = 'Yes'\n",
    "data.loc[data['CONCPT1'] == 22802, 'CPT_EX'] = 'Yes'\n",
    "data.loc[data['CONCPT1'] == 22804, 'CPT_EX'] = 'Yes'\n",
    "data.loc[data['CONCPT1'] == 22808, 'CPT_EX'] = 'Yes'\n",
    "data.loc[data['CONCPT1'] == 22810, 'CPT_EX'] = 'Yes'\n",
    "data.loc[data['CONCPT1'] == 22812, 'CPT_EX'] = 'Yes'\n",
    "data.loc[data['CONCPT1'] == 22849, 'CPT_EX'] = 'Yes'\n",
    "data.loc[data['CONCPT1'] == 22850, 'CPT_EX'] = 'Yes'\n",
    "data.loc[data['CONCPT1'] == 22852, 'CPT_EX'] = 'Yes'\n",
    "data.loc[data['CONCPT1'] == 22855, 'CPT_EX'] = 'Yes'\n",
    "data.loc[data['CONCPT1'] == 22862, 'CPT_EX'] = 'Yes'\n",
    "data.loc[data['CONCPT1'] == 22865, 'CPT_EX'] = 'Yes'\n",
    "\n",
    "data.loc[data['CONCPT2'] == 22800, 'CPT_EX'] = 'Yes'\n",
    "data.loc[data['CONCPT2'] == 22802, 'CPT_EX'] = 'Yes'\n",
    "data.loc[data['CONCPT2'] == 22804, 'CPT_EX'] = 'Yes'\n",
    "data.loc[data['CONCPT2'] == 22808, 'CPT_EX'] = 'Yes'\n",
    "data.loc[data['CONCPT2'] == 22810, 'CPT_EX'] = 'Yes'\n",
    "data.loc[data['CONCPT2'] == 22812, 'CPT_EX'] = 'Yes'\n",
    "data.loc[data['CONCPT2'] == 22849, 'CPT_EX'] = 'Yes'\n",
    "data.loc[data['CONCPT2'] == 22850, 'CPT_EX'] = 'Yes'\n",
    "data.loc[data['CONCPT2'] == 22852, 'CPT_EX'] = 'Yes'\n",
    "data.loc[data['CONCPT2'] == 22855, 'CPT_EX'] = 'Yes'\n",
    "data.loc[data['CONCPT2'] == 22862, 'CPT_EX'] = 'Yes'\n",
    "data.loc[data['CONCPT2'] == 22865, 'CPT_EX'] = 'Yes'\n",
    "\n",
    "data.loc[data['CONCPT3'] == 22800, 'CPT_EX'] = 'Yes'\n",
    "data.loc[data['CONCPT3'] == 22802, 'CPT_EX'] = 'Yes'\n",
    "data.loc[data['CONCPT3'] == 22804, 'CPT_EX'] = 'Yes'\n",
    "data.loc[data['CONCPT3'] == 22808, 'CPT_EX'] = 'Yes'\n",
    "data.loc[data['CONCPT3'] == 22810, 'CPT_EX'] = 'Yes'\n",
    "data.loc[data['CONCPT3'] == 22812, 'CPT_EX'] = 'Yes'\n",
    "data.loc[data['CONCPT3'] == 22849, 'CPT_EX'] = 'Yes'\n",
    "data.loc[data['CONCPT3'] == 22850, 'CPT_EX'] = 'Yes'\n",
    "data.loc[data['CONCPT3'] == 22852, 'CPT_EX'] = 'Yes'\n",
    "data.loc[data['CONCPT3'] == 22855, 'CPT_EX'] = 'Yes'\n",
    "data.loc[data['CONCPT3'] == 22862, 'CPT_EX'] = 'Yes'\n",
    "data.loc[data['CONCPT3'] == 22865, 'CPT_EX'] = 'Yes'\n",
    "\n",
    "data.loc[data['CONCPT4'] == 22800, 'CPT_EX'] = 'Yes'\n",
    "data.loc[data['CONCPT4'] == 22802, 'CPT_EX'] = 'Yes'\n",
    "data.loc[data['CONCPT4'] == 22804, 'CPT_EX'] = 'Yes'\n",
    "data.loc[data['CONCPT4'] == 22808, 'CPT_EX'] = 'Yes'\n",
    "data.loc[data['CONCPT4'] == 22810, 'CPT_EX'] = 'Yes'\n",
    "data.loc[data['CONCPT4'] == 22812, 'CPT_EX'] = 'Yes'\n",
    "data.loc[data['CONCPT4'] == 22849, 'CPT_EX'] = 'Yes'\n",
    "data.loc[data['CONCPT4'] == 22850, 'CPT_EX'] = 'Yes'\n",
    "data.loc[data['CONCPT4'] == 22852, 'CPT_EX'] = 'Yes'\n",
    "data.loc[data['CONCPT4'] == 22855, 'CPT_EX'] = 'Yes'\n",
    "data.loc[data['CONCPT4'] == 22862, 'CPT_EX'] = 'Yes'\n",
    "data.loc[data['CONCPT4'] == 22865, 'CPT_EX'] = 'Yes'\n",
    "\n",
    "data.loc[data['CONCPT5'] == 22800, 'CPT_EX'] = 'Yes'\n",
    "data.loc[data['CONCPT5'] == 22802, 'CPT_EX'] = 'Yes'\n",
    "data.loc[data['CONCPT5'] == 22804, 'CPT_EX'] = 'Yes'\n",
    "data.loc[data['CONCPT5'] == 22808, 'CPT_EX'] = 'Yes'\n",
    "data.loc[data['CONCPT5'] == 22810, 'CPT_EX'] = 'Yes'\n",
    "data.loc[data['CONCPT5'] == 22812, 'CPT_EX'] = 'Yes'\n",
    "data.loc[data['CONCPT5'] == 22849, 'CPT_EX'] = 'Yes'\n",
    "data.loc[data['CONCPT5'] == 22850, 'CPT_EX'] = 'Yes'\n",
    "data.loc[data['CONCPT5'] == 22852, 'CPT_EX'] = 'Yes'\n",
    "data.loc[data['CONCPT5'] == 22855, 'CPT_EX'] = 'Yes'\n",
    "data.loc[data['CONCPT5'] == 22862, 'CPT_EX'] = 'Yes'\n",
    "data.loc[data['CONCPT5'] == 22865, 'CPT_EX'] = 'Yes'\n",
    "\n",
    "data.loc[data['CONCPT6'] == 22800, 'CPT_EX'] = 'Yes'\n",
    "data.loc[data['CONCPT6'] == 22802, 'CPT_EX'] = 'Yes'\n",
    "data.loc[data['CONCPT6'] == 22804, 'CPT_EX'] = 'Yes'\n",
    "data.loc[data['CONCPT6'] == 22808, 'CPT_EX'] = 'Yes'\n",
    "data.loc[data['CONCPT6'] == 22810, 'CPT_EX'] = 'Yes'\n",
    "data.loc[data['CONCPT6'] == 22812, 'CPT_EX'] = 'Yes'\n",
    "data.loc[data['CONCPT6'] == 22849, 'CPT_EX'] = 'Yes'\n",
    "data.loc[data['CONCPT6'] == 22850, 'CPT_EX'] = 'Yes'\n",
    "data.loc[data['CONCPT6'] == 22852, 'CPT_EX'] = 'Yes'\n",
    "data.loc[data['CONCPT6'] == 22855, 'CPT_EX'] = 'Yes'\n",
    "data.loc[data['CONCPT6'] == 22862, 'CPT_EX'] = 'Yes'\n",
    "data.loc[data['CONCPT6'] == 22865, 'CPT_EX'] = 'Yes'\n",
    "\n",
    "data.loc[data['CONCPT7'] == 22800, 'CPT_EX'] = 'Yes'\n",
    "data.loc[data['CONCPT7'] == 22802, 'CPT_EX'] = 'Yes'\n",
    "data.loc[data['CONCPT7'] == 22804, 'CPT_EX'] = 'Yes'\n",
    "data.loc[data['CONCPT7'] == 22808, 'CPT_EX'] = 'Yes'\n",
    "data.loc[data['CONCPT7'] == 22810, 'CPT_EX'] = 'Yes'\n",
    "data.loc[data['CONCPT7'] == 22812, 'CPT_EX'] = 'Yes'\n",
    "data.loc[data['CONCPT7'] == 22849, 'CPT_EX'] = 'Yes'\n",
    "data.loc[data['CONCPT7'] == 22850, 'CPT_EX'] = 'Yes'\n",
    "data.loc[data['CONCPT7'] == 22852, 'CPT_EX'] = 'Yes'\n",
    "data.loc[data['CONCPT7'] == 22855, 'CPT_EX'] = 'Yes'\n",
    "data.loc[data['CONCPT7'] == 22862, 'CPT_EX'] = 'Yes'\n",
    "data.loc[data['CONCPT7'] == 22865, 'CPT_EX'] = 'Yes'\n",
    "\n",
    "data.loc[data['CONCPT8'] == 22800, 'CPT_EX'] = 'Yes'\n",
    "data.loc[data['CONCPT8'] == 22802, 'CPT_EX'] = 'Yes'\n",
    "data.loc[data['CONCPT8'] == 22804, 'CPT_EX'] = 'Yes'\n",
    "data.loc[data['CONCPT8'] == 22808, 'CPT_EX'] = 'Yes'\n",
    "data.loc[data['CONCPT8'] == 22810, 'CPT_EX'] = 'Yes'\n",
    "data.loc[data['CONCPT8'] == 22812, 'CPT_EX'] = 'Yes'\n",
    "data.loc[data['CONCPT8'] == 22849, 'CPT_EX'] = 'Yes'\n",
    "data.loc[data['CONCPT8'] == 22850, 'CPT_EX'] = 'Yes'\n",
    "data.loc[data['CONCPT8'] == 22852, 'CPT_EX'] = 'Yes'\n",
    "data.loc[data['CONCPT8'] == 22855, 'CPT_EX'] = 'Yes'\n",
    "data.loc[data['CONCPT8'] == 22862, 'CPT_EX'] = 'Yes'\n",
    "data.loc[data['CONCPT8'] == 22865, 'CPT_EX'] = 'Yes'\n",
    "\n",
    "data.loc[data['CONCPT9'] == 22800, 'CPT_EX'] = 'Yes'\n",
    "data.loc[data['CONCPT9'] == 22802, 'CPT_EX'] = 'Yes'\n",
    "data.loc[data['CONCPT9'] == 22804, 'CPT_EX'] = 'Yes'\n",
    "data.loc[data['CONCPT9'] == 22808, 'CPT_EX'] = 'Yes'\n",
    "data.loc[data['CONCPT9'] == 22810, 'CPT_EX'] = 'Yes'\n",
    "data.loc[data['CONCPT9'] == 22812, 'CPT_EX'] = 'Yes'\n",
    "data.loc[data['CONCPT9'] == 22849, 'CPT_EX'] = 'Yes'\n",
    "data.loc[data['CONCPT9'] == 22850, 'CPT_EX'] = 'Yes'\n",
    "data.loc[data['CONCPT9'] == 22852, 'CPT_EX'] = 'Yes'\n",
    "data.loc[data['CONCPT9'] == 22855, 'CPT_EX'] = 'Yes'\n",
    "data.loc[data['CONCPT9'] == 22862, 'CPT_EX'] = 'Yes'\n",
    "data.loc[data['CONCPT9'] == 22865, 'CPT_EX'] = 'Yes'\n",
    "\n",
    "data.loc[data['CONCPT10'] == 22800, 'CPT_EX'] = 'Yes'\n",
    "data.loc[data['CONCPT10'] == 22802, 'CPT_EX'] = 'Yes'\n",
    "data.loc[data['CONCPT10'] == 22804, 'CPT_EX'] = 'Yes'\n",
    "data.loc[data['CONCPT10'] == 22808, 'CPT_EX'] = 'Yes'\n",
    "data.loc[data['CONCPT10'] == 22810, 'CPT_EX'] = 'Yes'\n",
    "data.loc[data['CONCPT10'] == 22812, 'CPT_EX'] = 'Yes'\n",
    "data.loc[data['CONCPT10'] == 22849, 'CPT_EX'] = 'Yes'\n",
    "data.loc[data['CONCPT10'] == 22850, 'CPT_EX'] = 'Yes'\n",
    "data.loc[data['CONCPT10'] == 22852, 'CPT_EX'] = 'Yes'\n",
    "data.loc[data['CONCPT10'] == 22855, 'CPT_EX'] = 'Yes'\n",
    "data.loc[data['CONCPT10'] == 22862, 'CPT_EX'] = 'Yes'\n",
    "data.loc[data['CONCPT10'] == 22865, 'CPT_EX'] = 'Yes'\n",
    "\n",
    "data.loc[data['OTHERCPT1'] == 22800, 'CPT_EX'] = 'Yes'\n",
    "data.loc[data['OTHERCPT1'] == 22802, 'CPT_EX'] = 'Yes'\n",
    "data.loc[data['OTHERCPT1'] == 22804, 'CPT_EX'] = 'Yes'\n",
    "data.loc[data['OTHERCPT1'] == 22808, 'CPT_EX'] = 'Yes'\n",
    "data.loc[data['OTHERCPT1'] == 22810, 'CPT_EX'] = 'Yes'\n",
    "data.loc[data['OTHERCPT1'] == 22812, 'CPT_EX'] = 'Yes'\n",
    "data.loc[data['OTHERCPT1'] == 22849, 'CPT_EX'] = 'Yes'\n",
    "data.loc[data['OTHERCPT1'] == 22850, 'CPT_EX'] = 'Yes'\n",
    "data.loc[data['OTHERCPT1'] == 22852, 'CPT_EX'] = 'Yes'\n",
    "data.loc[data['OTHERCPT1'] == 22855, 'CPT_EX'] = 'Yes'\n",
    "data.loc[data['OTHERCPT1'] == 22862, 'CPT_EX'] = 'Yes'\n",
    "data.loc[data['OTHERCPT1'] == 22865, 'CPT_EX'] = 'Yes'\n",
    "\n",
    "data.loc[data['OTHERCPT2'] == 22800, 'CPT_EX'] = 'Yes'\n",
    "data.loc[data['OTHERCPT2'] == 22802, 'CPT_EX'] = 'Yes'\n",
    "data.loc[data['OTHERCPT2'] == 22804, 'CPT_EX'] = 'Yes'\n",
    "data.loc[data['OTHERCPT2'] == 22808, 'CPT_EX'] = 'Yes'\n",
    "data.loc[data['OTHERCPT2'] == 22810, 'CPT_EX'] = 'Yes'\n",
    "data.loc[data['OTHERCPT2'] == 22812, 'CPT_EX'] = 'Yes'\n",
    "data.loc[data['OTHERCPT2'] == 22849, 'CPT_EX'] = 'Yes'\n",
    "data.loc[data['OTHERCPT2'] == 22850, 'CPT_EX'] = 'Yes'\n",
    "data.loc[data['OTHERCPT2'] == 22852, 'CPT_EX'] = 'Yes'\n",
    "data.loc[data['OTHERCPT2'] == 22855, 'CPT_EX'] = 'Yes'\n",
    "data.loc[data['OTHERCPT2'] == 22862, 'CPT_EX'] = 'Yes'\n",
    "data.loc[data['OTHERCPT2'] == 22865, 'CPT_EX'] = 'Yes'\n",
    "\n",
    "data.loc[data['OTHERCPT3'] == 22800, 'CPT_EX'] = 'Yes'\n",
    "data.loc[data['OTHERCPT3'] == 22802, 'CPT_EX'] = 'Yes'\n",
    "data.loc[data['OTHERCPT3'] == 22804, 'CPT_EX'] = 'Yes'\n",
    "data.loc[data['OTHERCPT3'] == 22808, 'CPT_EX'] = 'Yes'\n",
    "data.loc[data['OTHERCPT3'] == 22810, 'CPT_EX'] = 'Yes'\n",
    "data.loc[data['OTHERCPT3'] == 22812, 'CPT_EX'] = 'Yes'\n",
    "data.loc[data['OTHERCPT3'] == 22849, 'CPT_EX'] = 'Yes'\n",
    "data.loc[data['OTHERCPT3'] == 22850, 'CPT_EX'] = 'Yes'\n",
    "data.loc[data['OTHERCPT3'] == 22852, 'CPT_EX'] = 'Yes'\n",
    "data.loc[data['OTHERCPT3'] == 22855, 'CPT_EX'] = 'Yes'\n",
    "data.loc[data['OTHERCPT3'] == 22862, 'CPT_EX'] = 'Yes'\n",
    "data.loc[data['OTHERCPT3'] == 22865, 'CPT_EX'] = 'Yes'\n",
    "\n",
    "data.loc[data['OTHERCPT4'] == 22800, 'CPT_EX'] = 'Yes'\n",
    "data.loc[data['OTHERCPT4'] == 22802, 'CPT_EX'] = 'Yes'\n",
    "data.loc[data['OTHERCPT4'] == 22804, 'CPT_EX'] = 'Yes'\n",
    "data.loc[data['OTHERCPT4'] == 22808, 'CPT_EX'] = 'Yes'\n",
    "data.loc[data['OTHERCPT4'] == 22810, 'CPT_EX'] = 'Yes'\n",
    "data.loc[data['OTHERCPT4'] == 22812, 'CPT_EX'] = 'Yes'\n",
    "data.loc[data['OTHERCPT4'] == 22849, 'CPT_EX'] = 'Yes'\n",
    "data.loc[data['OTHERCPT4'] == 22850, 'CPT_EX'] = 'Yes'\n",
    "data.loc[data['OTHERCPT4'] == 22852, 'CPT_EX'] = 'Yes'\n",
    "data.loc[data['OTHERCPT4'] == 22855, 'CPT_EX'] = 'Yes'\n",
    "data.loc[data['OTHERCPT4'] == 22862, 'CPT_EX'] = 'Yes'\n",
    "data.loc[data['OTHERCPT4'] == 22865, 'CPT_EX'] = 'Yes'\n",
    "\n",
    "data.loc[data['OTHERCPT5'] == 22800, 'CPT_EX'] = 'Yes'\n",
    "data.loc[data['OTHERCPT5'] == 22802, 'CPT_EX'] = 'Yes'\n",
    "data.loc[data['OTHERCPT5'] == 22804, 'CPT_EX'] = 'Yes'\n",
    "data.loc[data['OTHERCPT5'] == 22808, 'CPT_EX'] = 'Yes'\n",
    "data.loc[data['OTHERCPT5'] == 22810, 'CPT_EX'] = 'Yes'\n",
    "data.loc[data['OTHERCPT5'] == 22812, 'CPT_EX'] = 'Yes'\n",
    "data.loc[data['OTHERCPT5'] == 22849, 'CPT_EX'] = 'Yes'\n",
    "data.loc[data['OTHERCPT5'] == 22850, 'CPT_EX'] = 'Yes'\n",
    "data.loc[data['OTHERCPT5'] == 22852, 'CPT_EX'] = 'Yes'\n",
    "data.loc[data['OTHERCPT5'] == 22855, 'CPT_EX'] = 'Yes'\n",
    "data.loc[data['OTHERCPT5'] == 22862, 'CPT_EX'] = 'Yes'\n",
    "data.loc[data['OTHERCPT5'] == 22865, 'CPT_EX'] = 'Yes'\n",
    "\n",
    "data.loc[data['OTHERCPT6'] == 22800, 'CPT_EX'] = 'Yes'\n",
    "data.loc[data['OTHERCPT6'] == 22802, 'CPT_EX'] = 'Yes'\n",
    "data.loc[data['OTHERCPT6'] == 22804, 'CPT_EX'] = 'Yes'\n",
    "data.loc[data['OTHERCPT6'] == 22808, 'CPT_EX'] = 'Yes'\n",
    "data.loc[data['OTHERCPT6'] == 22810, 'CPT_EX'] = 'Yes'\n",
    "data.loc[data['OTHERCPT6'] == 22812, 'CPT_EX'] = 'Yes'\n",
    "data.loc[data['OTHERCPT6'] == 22849, 'CPT_EX'] = 'Yes'\n",
    "data.loc[data['OTHERCPT6'] == 22850, 'CPT_EX'] = 'Yes'\n",
    "data.loc[data['OTHERCPT6'] == 22852, 'CPT_EX'] = 'Yes'\n",
    "data.loc[data['OTHERCPT6'] == 22855, 'CPT_EX'] = 'Yes'\n",
    "data.loc[data['OTHERCPT6'] == 22862, 'CPT_EX'] = 'Yes'\n",
    "data.loc[data['OTHERCPT6'] == 22865, 'CPT_EX'] = 'Yes'\n",
    "\n",
    "data.loc[data['OTHERCPT7'] == 22800, 'CPT_EX'] = 'Yes'\n",
    "data.loc[data['OTHERCPT7'] == 22802, 'CPT_EX'] = 'Yes'\n",
    "data.loc[data['OTHERCPT7'] == 22804, 'CPT_EX'] = 'Yes'\n",
    "data.loc[data['OTHERCPT7'] == 22808, 'CPT_EX'] = 'Yes'\n",
    "data.loc[data['OTHERCPT7'] == 22810, 'CPT_EX'] = 'Yes'\n",
    "data.loc[data['OTHERCPT7'] == 22812, 'CPT_EX'] = 'Yes'\n",
    "data.loc[data['OTHERCPT7'] == 22849, 'CPT_EX'] = 'Yes'\n",
    "data.loc[data['OTHERCPT7'] == 22850, 'CPT_EX'] = 'Yes'\n",
    "data.loc[data['OTHERCPT7'] == 22852, 'CPT_EX'] = 'Yes'\n",
    "data.loc[data['OTHERCPT7'] == 22855, 'CPT_EX'] = 'Yes'\n",
    "data.loc[data['OTHERCPT7'] == 22862, 'CPT_EX'] = 'Yes'\n",
    "data.loc[data['OTHERCPT7'] == 22865, 'CPT_EX'] = 'Yes'\n",
    "\n",
    "data.loc[data['OTHERCPT8'] == 22800, 'CPT_EX'] = 'Yes'\n",
    "data.loc[data['OTHERCPT8'] == 22802, 'CPT_EX'] = 'Yes'\n",
    "data.loc[data['OTHERCPT8'] == 22804, 'CPT_EX'] = 'Yes'\n",
    "data.loc[data['OTHERCPT8'] == 22808, 'CPT_EX'] = 'Yes'\n",
    "data.loc[data['OTHERCPT8'] == 22810, 'CPT_EX'] = 'Yes'\n",
    "data.loc[data['OTHERCPT8'] == 22812, 'CPT_EX'] = 'Yes'\n",
    "data.loc[data['OTHERCPT8'] == 22849, 'CPT_EX'] = 'Yes'\n",
    "data.loc[data['OTHERCPT8'] == 22850, 'CPT_EX'] = 'Yes'\n",
    "data.loc[data['OTHERCPT8'] == 22852, 'CPT_EX'] = 'Yes'\n",
    "data.loc[data['OTHERCPT8'] == 22855, 'CPT_EX'] = 'Yes'\n",
    "data.loc[data['OTHERCPT8'] == 22862, 'CPT_EX'] = 'Yes'\n",
    "data.loc[data['OTHERCPT8'] == 22865, 'CPT_EX'] = 'Yes'\n",
    "\n",
    "data.loc[data['OTHERCPT9'] == 22800, 'CPT_EX'] = 'Yes'\n",
    "data.loc[data['OTHERCPT9'] == 22802, 'CPT_EX'] = 'Yes'\n",
    "data.loc[data['OTHERCPT9'] == 22804, 'CPT_EX'] = 'Yes'\n",
    "data.loc[data['OTHERCPT9'] == 22808, 'CPT_EX'] = 'Yes'\n",
    "data.loc[data['OTHERCPT9'] == 22810, 'CPT_EX'] = 'Yes'\n",
    "data.loc[data['OTHERCPT9'] == 22812, 'CPT_EX'] = 'Yes'\n",
    "data.loc[data['OTHERCPT9'] == 22849, 'CPT_EX'] = 'Yes'\n",
    "data.loc[data['OTHERCPT9'] == 22850, 'CPT_EX'] = 'Yes'\n",
    "data.loc[data['OTHERCPT9'] == 22852, 'CPT_EX'] = 'Yes'\n",
    "data.loc[data['OTHERCPT9'] == 22855, 'CPT_EX'] = 'Yes'\n",
    "data.loc[data['OTHERCPT9'] == 22862, 'CPT_EX'] = 'Yes'\n",
    "data.loc[data['OTHERCPT9'] == 22865, 'CPT_EX'] = 'Yes'\n",
    "\n",
    "data.loc[data['OTHERCPT10'] == 22800, 'CPT_EX'] = 'Yes'\n",
    "data.loc[data['OTHERCPT10'] == 22802, 'CPT_EX'] = 'Yes'\n",
    "data.loc[data['OTHERCPT10'] == 22804, 'CPT_EX'] = 'Yes'\n",
    "data.loc[data['OTHERCPT10'] == 22808, 'CPT_EX'] = 'Yes'\n",
    "data.loc[data['OTHERCPT10'] == 22810, 'CPT_EX'] = 'Yes'\n",
    "data.loc[data['OTHERCPT10'] == 22812, 'CPT_EX'] = 'Yes'\n",
    "data.loc[data['OTHERCPT10'] == 22849, 'CPT_EX'] = 'Yes'\n",
    "data.loc[data['OTHERCPT10'] == 22850, 'CPT_EX'] = 'Yes'\n",
    "data.loc[data['OTHERCPT10'] == 22852, 'CPT_EX'] = 'Yes'\n",
    "data.loc[data['OTHERCPT10'] == 22855, 'CPT_EX'] = 'Yes'\n",
    "data.loc[data['OTHERCPT10'] == 22862, 'CPT_EX'] = 'Yes'\n",
    "data.loc[data['OTHERCPT10'] == 22865, 'CPT_EX'] = 'Yes'\n",
    "\n",
    "data.loc[data['CPT_EX'] != 'Yes', 'CPT_EX'] = 'No'\n",
    "\n",
    "data['CPT_EX'].value_counts(dropna=False)"
   ]
  },
  {
   "cell_type": "code",
   "execution_count": null,
   "id": "8KKrPQHK9Uz4",
   "metadata": {
    "colab": {
     "base_uri": "https://localhost:8080/"
    },
    "id": "8KKrPQHK9Uz4",
    "outputId": "4bce06cb-c1ea-4dae-f30e-56d5c96fe14c"
   },
   "outputs": [],
   "source": [
    "#Exclude patients with CPT codes that were assigned to be excluding.\n",
    "\n",
    "data = data[(data['CPT_EX'] == 'No')]\n",
    "\n",
    "data['CPT_EX'].value_counts(normalize=False, dropna=False)"
   ]
  },
  {
   "cell_type": "code",
   "execution_count": null,
   "id": "6c426cf1-c714-425d-b996-38a92517dcd3",
   "metadata": {
    "colab": {
     "base_uri": "https://localhost:8080/"
    },
    "id": "6c426cf1-c714-425d-b996-38a92517dcd3",
    "outputId": "e282d23c-28cf-4778-bade-7885e3d49da0"
   },
   "outputs": [],
   "source": [
    "#Check data for elective surgeries.\n",
    "\n",
    "data['ELECTSURG'].value_counts(normalize=False, dropna=False)"
   ]
  },
  {
   "cell_type": "code",
   "execution_count": null,
   "id": "66c0ac20",
   "metadata": {
    "colab": {
     "base_uri": "https://localhost:8080/"
    },
    "id": "66c0ac20",
    "outputId": "28bbeedc-249a-41f7-e101-340d67c93643"
   },
   "outputs": [],
   "source": [
    "#Apply inclusion criteria for elective surgeries.\n",
    "\n",
    "data = data[(data['ELECTSURG'] == 'Yes')]\n",
    "\n",
    "data['ELECTSURG'].value_counts(normalize=False, dropna=False)"
   ]
  },
  {
   "cell_type": "code",
   "execution_count": null,
   "id": "88c16422",
   "metadata": {
    "colab": {
     "base_uri": "https://localhost:8080/"
    },
    "id": "88c16422",
    "outputId": "3a8e8e3b-54c2-4a68-bb0f-c9d0a557cb78"
   },
   "outputs": [],
   "source": [
    "#Check data for emergency surgery.\n",
    "\n",
    "data['EMERGNCY'].value_counts(normalize=False, dropna=False)"
   ]
  },
  {
   "cell_type": "code",
   "execution_count": null,
   "id": "bb4d527c",
   "metadata": {
    "colab": {
     "base_uri": "https://localhost:8080/"
    },
    "id": "bb4d527c",
    "outputId": "7af521cc-2117-4893-c702-70a6c947ba12"
   },
   "outputs": [],
   "source": [
    "#Apply exclusion criteria for emergency surgery.\n",
    "\n",
    "data = data[(data['EMERGNCY'] == 'No')]\n",
    "\n",
    "data['EMERGNCY'].value_counts(normalize=False, dropna=False)"
   ]
  },
  {
   "cell_type": "code",
   "execution_count": null,
   "id": "81efedf4",
   "metadata": {
    "colab": {
     "base_uri": "https://localhost:8080/"
    },
    "id": "81efedf4",
    "outputId": "d466bb2d-d563-46c3-a070-f9931247ef70"
   },
   "outputs": [],
   "source": [
    "#Check data for anesthesia type.\n",
    "\n",
    "data['ANESTHES'].value_counts(normalize=False, dropna=False)"
   ]
  },
  {
   "cell_type": "code",
   "execution_count": null,
   "id": "056878f5",
   "metadata": {
    "colab": {
     "base_uri": "https://localhost:8080/"
    },
    "id": "056878f5",
    "outputId": "3d12de3c-3d9a-4207-942f-ecc94d6f5cc4"
   },
   "outputs": [],
   "source": [
    "#Apply inclusion criteria for general anesthesia.\n",
    "\n",
    "data = data[(data['ANESTHES'] == 'General')]\n",
    "\n",
    "data['ANESTHES'].value_counts(normalize=False, dropna=False)"
   ]
  },
  {
   "cell_type": "code",
   "execution_count": null,
   "id": "120235be",
   "metadata": {
    "colab": {
     "base_uri": "https://localhost:8080/"
    },
    "id": "120235be",
    "outputId": "9830b21d-a673-432a-fb32-51131a4cc890"
   },
   "outputs": [],
   "source": [
    "#Check data for surgical specialties.\n",
    "\n",
    "data['SURGSPEC'].value_counts(normalize=False, dropna=False)"
   ]
  },
  {
   "cell_type": "code",
   "execution_count": null,
   "id": "7cf0695f",
   "metadata": {
    "colab": {
     "base_uri": "https://localhost:8080/"
    },
    "id": "7cf0695f",
    "outputId": "86b2bac9-94d7-4af0-dd56-5dbb98e3b88c"
   },
   "outputs": [],
   "source": [
    "#Apply inclusion criteria for surgical specialties.\n",
    "\n",
    "data = data[(data['SURGSPEC'] == 'Neurosurgery') | (data['SURGSPEC'] == 'Orthopedics')]\n",
    "\n",
    "data['SURGSPEC'].value_counts(normalize=False, dropna=False)"
   ]
  },
  {
   "cell_type": "code",
   "execution_count": null,
   "id": "a4d5b647",
   "metadata": {
    "colab": {
     "base_uri": "https://localhost:8080/"
    },
    "id": "a4d5b647",
    "outputId": "5d3fe8be-862d-43e3-9806-64543008565d"
   },
   "outputs": [],
   "source": [
    "#Check data for wound class.\n",
    "\n",
    "data['WNDCLAS'].value_counts(normalize=False, dropna=False)"
   ]
  },
  {
   "cell_type": "code",
   "execution_count": null,
   "id": "b6d72d44",
   "metadata": {
    "colab": {
     "base_uri": "https://localhost:8080/"
    },
    "id": "b6d72d44",
    "outputId": "bc382249-f4b8-4335-dd95-28e288140413"
   },
   "outputs": [],
   "source": [
    "#Apply exclusion criteria for wound class.\n",
    "\n",
    "data = data[(data['WNDCLAS'] == '1-Clean')]\n",
    "\n",
    "data['WNDCLAS'].value_counts(normalize=False, dropna=False)"
   ]
  },
  {
   "cell_type": "code",
   "execution_count": null,
   "id": "3e61433b",
   "metadata": {
    "colab": {
     "base_uri": "https://localhost:8080/"
    },
    "id": "3e61433b",
    "outputId": "9f65aeca-77c6-4307-a8dd-172ed661512f"
   },
   "outputs": [],
   "source": [
    "#Check data for preoperative sepsis.\n",
    "\n",
    "data['PRSEPIS'].value_counts(normalize=False, dropna=False)"
   ]
  },
  {
   "cell_type": "code",
   "execution_count": null,
   "id": "78f75891",
   "metadata": {
    "colab": {
     "base_uri": "https://localhost:8080/"
    },
    "id": "78f75891",
    "outputId": "d1e74b3c-288e-485c-8897-dc4957f0f199"
   },
   "outputs": [],
   "source": [
    "#Apply exclusion criteria for preoperative sepsis.\n",
    "\n",
    "data = data[(data['PRSEPIS'] == 'None')]\n",
    "\n",
    "data['PRSEPIS'].value_counts(normalize=False, dropna=False)"
   ]
  },
  {
   "cell_type": "code",
   "execution_count": null,
   "id": "d00834fd",
   "metadata": {
    "colab": {
     "base_uri": "https://localhost:8080/"
    },
    "id": "d00834fd",
    "outputId": "47f854bc-410f-413e-81c5-181255e74d18"
   },
   "outputs": [],
   "source": [
    "#Check data for ASA Class.\n",
    "\n",
    "data['ASACLAS'].value_counts(normalize=False, dropna=False)"
   ]
  },
  {
   "cell_type": "code",
   "execution_count": null,
   "id": "3e51b8d4",
   "metadata": {
    "colab": {
     "base_uri": "https://localhost:8080/"
    },
    "id": "3e51b8d4",
    "outputId": "5727ed78-ee4a-4bb3-9bb1-4688b5dabc91"
   },
   "outputs": [],
   "source": [
    "#Apply exclusion criteria for ASA class.\n",
    "\n",
    "data = data[(data['ASACLAS'] != '4-Life Threat') & (data['ASACLAS'] != '5-Moribund') & (data['ASACLAS'] != 'None assigned')]\n",
    "\n",
    "data['ASACLAS'].value_counts(normalize=False, dropna=False)"
   ]
  },
  {
   "cell_type": "code",
   "execution_count": null,
   "id": "ab9d9c55",
   "metadata": {
    "colab": {
     "base_uri": "https://localhost:8080/"
    },
    "id": "ab9d9c55",
    "outputId": "8f3a1f34-0ca9-483b-ee2b-7da6d3878583"
   },
   "outputs": [],
   "source": [
    "#Create BMI column.\n",
    "\n",
    "lbs_to_kg_ratio = 0.453592\n",
    "inch_to_meter_ratio = 0.0254\n",
    "\n",
    "data['HEIGHT'] *= inch_to_meter_ratio\n",
    "data['WEIGHT'] *= lbs_to_kg_ratio\n",
    "\n",
    "data['BMI'] = data['WEIGHT']/(data['HEIGHT']**2)\n",
    "print(min(data['BMI']))\n",
    "print(max(data['BMI']))"
   ]
  },
  {
   "cell_type": "code",
   "execution_count": null,
   "id": "fbf1c8ec",
   "metadata": {
    "colab": {
     "base_uri": "https://localhost:8080/"
    },
    "id": "fbf1c8ec",
    "outputId": "1f6f2963-0245-4bbb-f930-f2ea5e58037f"
   },
   "outputs": [],
   "source": [
    "#Check data for race.\n",
    "\n",
    "data['RACE_NEW'].value_counts(normalize=False, dropna=False)"
   ]
  },
  {
   "cell_type": "code",
   "execution_count": null,
   "id": "58a7a358",
   "metadata": {
    "colab": {
     "base_uri": "https://localhost:8080/"
    },
    "id": "58a7a358",
    "outputId": "4914f50c-b454-41a2-e0d2-450f94082253"
   },
   "outputs": [],
   "source": [
    "#Check data for ethnicity.\n",
    "\n",
    "data['ETHNICITY_HISPANIC'].value_counts(normalize=False, dropna=False)"
   ]
  },
  {
   "cell_type": "code",
   "execution_count": null,
   "id": "edfeff13",
   "metadata": {
    "colab": {
     "base_uri": "https://localhost:8080/"
    },
    "id": "edfeff13",
    "outputId": "d63dab83-7d85-457e-8dc8-2f82dd516547"
   },
   "outputs": [],
   "source": [
    "#Simplify race and ethnicity columns.\n",
    "\n",
    "data.loc[data['RACE_NEW'] == 'White', 'RACE'] = 'White'\n",
    "data.loc[data['RACE_NEW'] == 'Black or African American', 'RACE'] = 'Black or African American'\n",
    "data.loc[data['RACE_NEW'] == 'Asian', 'RACE'] = 'Asian'\n",
    "data.loc[data['RACE_NEW'] == 'American Indian or Alaska Native', 'RACE'] = 'Other'\n",
    "data.loc[data['RACE_NEW'] == 'Native Hawaiian or Other Pacific Islander', 'RACE'] = 'Other'\n",
    "data.loc[data['RACE_NEW'] == 'Native Hawaiian or Pacific Islander', 'RACE'] = 'Other'\n",
    "data.loc[data['RACE_NEW'] == 'Some Other Race', 'RACE'] = 'Other'\n",
    "\n",
    "data.loc[data['ETHNICITY_HISPANIC'] == 'Yes', 'RACE'] = 'Hispanic'\n",
    "\n",
    "data['RACE'].value_counts(normalize=False, dropna=False)"
   ]
  },
  {
   "cell_type": "code",
   "execution_count": null,
   "id": "058b3c3d",
   "metadata": {
    "colab": {
     "base_uri": "https://localhost:8080/"
    },
    "id": "058b3c3d",
    "outputId": "5acbb0b6-b1fb-4cdc-c55e-10f29efcf533"
   },
   "outputs": [],
   "source": [
    "#Check data for transfer status.\n",
    "\n",
    "data['TRANST'].value_counts(normalize=False, dropna=False)"
   ]
  },
  {
   "cell_type": "code",
   "execution_count": null,
   "id": "c3af9dc4",
   "metadata": {
    "colab": {
     "base_uri": "https://localhost:8080/"
    },
    "id": "c3af9dc4",
    "outputId": "5cd6dc66-bc93-4441-f975-84345a516f1a"
   },
   "outputs": [],
   "source": [
    "#Simplify transfer status column.\n",
    "\n",
    "data.loc[data['TRANST'] == 'Not transferred (admitted from home)', 'TRANST'] = 'Not transferred'\n",
    "data.loc[data['TRANST'] == 'Nursing home - Chronic care - Intermediate care', 'TRANST'] = 'Transferred'\n",
    "data.loc[data['TRANST'] == 'From acute care hospital inpatient', 'TRANST'] = 'Transferred'\n",
    "data.loc[data['TRANST'] == 'Outside emergency department', 'TRANST'] = 'Transferred'\n",
    "data.loc[data['TRANST'] == 'Transfer from other', 'TRANST'] = 'Transferred'\n",
    "\n",
    "data['TRANST'].value_counts(normalize=False, dropna=False)"
   ]
  },
  {
   "cell_type": "code",
   "execution_count": null,
   "id": "ba88fac8",
   "metadata": {
    "colab": {
     "base_uri": "https://localhost:8080/"
    },
    "id": "ba88fac8",
    "outputId": "2a4da2a6-69dd-4b0a-f679-537c0252f482"
   },
   "outputs": [],
   "source": [
    "#Check data for dyspnea.\n",
    "\n",
    "data['DYSPNEA'].value_counts(normalize=False, dropna=False)"
   ]
  },
  {
   "cell_type": "code",
   "execution_count": null,
   "id": "5557e3e3",
   "metadata": {
    "colab": {
     "base_uri": "https://localhost:8080/"
    },
    "id": "5557e3e3",
    "outputId": "e74a9cd5-6b50-47b3-83de-f0db17c1e232"
   },
   "outputs": [],
   "source": [
    "#Simplify dyspnea column.\n",
    "\n",
    "data.loc[data['DYSPNEA'] == 'No', 'DYSPNEA'] = 'No'\n",
    "data.loc[data['DYSPNEA'] == 'MODERATE EXERTION', 'DYSPNEA'] = 'Yes'\n",
    "data.loc[data['DYSPNEA'] == 'AT REST', 'DYSPNEA'] = 'Yes'\n",
    "\n",
    "data['DYSPNEA'].value_counts(normalize=False, dropna=False)"
   ]
  },
  {
   "cell_type": "code",
   "execution_count": null,
   "id": "238ad170",
   "metadata": {
    "colab": {
     "base_uri": "https://localhost:8080/"
    },
    "id": "238ad170",
    "outputId": "7d1c222e-1917-4d8c-ca2b-32124b6b3507"
   },
   "outputs": [],
   "source": [
    "#Check data for diabetes status.\n",
    "\n",
    "data['DIABETES'].value_counts(normalize=False, dropna=False)"
   ]
  },
  {
   "cell_type": "code",
   "execution_count": null,
   "id": "d0378434",
   "metadata": {
    "colab": {
     "base_uri": "https://localhost:8080/"
    },
    "id": "d0378434",
    "outputId": "15205e05-90a3-42d2-97e7-163a7a552095"
   },
   "outputs": [],
   "source": [
    "#Simplify diabetes column.\n",
    "\n",
    "data.loc[data['DIABETES'] == 'NO', 'DIABETES'] = 'No'\n",
    "data.loc[data['DIABETES'] == 'NON-INSULIN', 'DIABETES'] = 'Yes'\n",
    "data.loc[data['DIABETES'] == 'INSULIN', 'DIABETES'] = 'Yes'\n",
    "\n",
    "data['DIABETES'].value_counts(normalize=False, dropna=False)"
   ]
  },
  {
   "cell_type": "code",
   "execution_count": null,
   "id": "2aca45cc",
   "metadata": {
    "colab": {
     "base_uri": "https://localhost:8080/"
    },
    "id": "2aca45cc",
    "outputId": "f382e504-a00b-4fbe-db5a-4c9c06b34991"
   },
   "outputs": [],
   "source": [
    "#Cast ASA class as ordered categorical.\n",
    "\n",
    "cat_type1 = CategoricalDtype(categories=['1-No Disturb','2-Mild Disturb','3-Severe Disturb'], ordered=True)\n",
    "data['ASACLAS'].astype(cat_type1)"
   ]
  },
  {
   "cell_type": "code",
   "execution_count": null,
   "id": "19fb0646",
   "metadata": {
    "colab": {
     "base_uri": "https://localhost:8080/"
    },
    "id": "19fb0646",
    "outputId": "2213a1e7-82c0-4086-d363-9d19d02e7618"
   },
   "outputs": [],
   "source": [
    "#Cast functional status as ordered categorical.\n",
    "\n",
    "cat_type2 = CategoricalDtype(categories=['Unknown','Independent','Partiallly Dependent', 'Totally Dependent'], ordered=True)\n",
    "data['FNSTATUS2'].astype(cat_type2)"
   ]
  },
  {
   "cell_type": "code",
   "execution_count": null,
   "id": "9fb66caf",
   "metadata": {
    "id": "9fb66caf"
   },
   "outputs": [],
   "source": [
    "#Convert 90+ to 91 and AGE column to integer.\n",
    "\n",
    "data.loc[data['AGE'] == '90+', 'AGE'] = 91\n",
    "data['AGE'] = pd.to_numeric(data['AGE'], downcast='integer')"
   ]
  },
  {
   "cell_type": "code",
   "execution_count": null,
   "id": "ace8b0df",
   "metadata": {
    "colab": {
     "base_uri": "https://localhost:8080/"
    },
    "id": "ace8b0df",
    "outputId": "14ed503d-d0be-4428-eb87-2fbd10580342"
   },
   "outputs": [],
   "source": [
    "#Show patients for each CPT code.\n",
    "\n",
    "data['CPT'].value_counts()"
   ]
  },
  {
   "cell_type": "code",
   "execution_count": null,
   "id": "LULJqk2bwx-h",
   "metadata": {
    "colab": {
     "base_uri": "https://localhost:8080/"
    },
    "id": "LULJqk2bwx-h",
    "outputId": "06bbc004-5b51-4a1f-b00d-1ad3238e68ca"
   },
   "outputs": [],
   "source": [
    "#Classify operations into single- vs. multiple-levels and create a column named 'LEVELS' for it.\n",
    "\n",
    "data.loc[data['CPT'] == 22614, 'LEVELS'] = 'Multiple'\n",
    "data.loc[data['CONCPT1'] == 22614, 'LEVELS'] = 'Multiple'\n",
    "data.loc[data['CONCPT2'] == 22614, 'LEVELS'] = 'Multiple'\n",
    "data.loc[data['CONCPT3'] == 22614, 'LEVELS'] = 'Multiple'\n",
    "data.loc[data['CONCPT4'] == 22614, 'LEVELS'] = 'Multiple'\n",
    "data.loc[data['CONCPT5'] == 22614, 'LEVELS'] = 'Multiple'\n",
    "data.loc[data['CONCPT6'] == 22614, 'LEVELS'] = 'Multiple'\n",
    "data.loc[data['CONCPT7'] == 22614, 'LEVELS'] = 'Multiple'\n",
    "data.loc[data['CONCPT9'] == 22614, 'LEVELS'] = 'Multiple'\n",
    "data.loc[data['CONCPT10'] == 22614, 'LEVELS'] = 'Multiple'\n",
    "data.loc[data['OTHERCPT1'] == 22614, 'LEVELS'] = 'Multiple'\n",
    "data.loc[data['OTHERCPT2'] == 22614, 'LEVELS'] = 'Multiple'\n",
    "data.loc[data['OTHERCPT3'] == 22614, 'LEVELS'] = 'Multiple'\n",
    "data.loc[data['OTHERCPT4'] == 22614, 'LEVELS'] = 'Multiple'\n",
    "data.loc[data['OTHERCPT5'] == 22614, 'LEVELS'] = 'Multiple'\n",
    "data.loc[data['OTHERCPT6'] == 22614, 'LEVELS'] = 'Multiple'\n",
    "data.loc[data['OTHERCPT7'] == 22614, 'LEVELS'] = 'Multiple'\n",
    "data.loc[data['OTHERCPT9'] == 22614, 'LEVELS'] = 'Multiple'\n",
    "data.loc[data['OTHERCPT10'] == 22614, 'LEVELS'] = 'Multiple'\n",
    "\n",
    "data.loc[data['CPT'] == 22632, 'LEVELS'] = 'Multiple'\n",
    "data.loc[data['CONCPT1'] == 22632, 'LEVELS'] = 'Multiple'\n",
    "data.loc[data['CONCPT2'] == 22632, 'LEVELS'] = 'Multiple'\n",
    "data.loc[data['CONCPT3'] == 22632, 'LEVELS'] = 'Multiple'\n",
    "data.loc[data['CONCPT4'] == 22632, 'LEVELS'] = 'Multiple'\n",
    "data.loc[data['CONCPT5'] == 22632, 'LEVELS'] = 'Multiple'\n",
    "data.loc[data['CONCPT6'] == 22632, 'LEVELS'] = 'Multiple'\n",
    "data.loc[data['CONCPT7'] == 22632, 'LEVELS'] = 'Multiple'\n",
    "data.loc[data['CONCPT9'] == 22632, 'LEVELS'] = 'Multiple'\n",
    "data.loc[data['CONCPT10'] == 22632, 'LEVELS'] = 'Multiple'\n",
    "data.loc[data['OTHERCPT1'] == 22632, 'LEVELS'] = 'Multiple'\n",
    "data.loc[data['OTHERCPT2'] == 22632, 'LEVELS'] = 'Multiple'\n",
    "data.loc[data['OTHERCPT3'] == 22632, 'LEVELS'] = 'Multiple'\n",
    "data.loc[data['OTHERCPT4'] == 22632, 'LEVELS'] = 'Multiple'\n",
    "data.loc[data['OTHERCPT5'] == 22632, 'LEVELS'] = 'Multiple'\n",
    "data.loc[data['OTHERCPT6'] == 22632, 'LEVELS'] = 'Multiple'\n",
    "data.loc[data['OTHERCPT7'] == 22632, 'LEVELS'] = 'Multiple'\n",
    "data.loc[data['OTHERCPT9'] == 22632, 'LEVELS'] = 'Multiple'\n",
    "data.loc[data['OTHERCPT10'] == 22632, 'LEVELS'] = 'Multiple'\n",
    "\n",
    "data.loc[data['CPT'] == 22634, 'LEVELS'] = 'Multiple'\n",
    "data.loc[data['CONCPT1'] == 22634, 'LEVELS'] = 'Multiple'\n",
    "data.loc[data['CONCPT2'] == 22634, 'LEVELS'] = 'Multiple'\n",
    "data.loc[data['CONCPT3'] == 22634, 'LEVELS'] = 'Multiple'\n",
    "data.loc[data['CONCPT4'] == 22634, 'LEVELS'] = 'Multiple'\n",
    "data.loc[data['CONCPT5'] == 22634, 'LEVELS'] = 'Multiple'\n",
    "data.loc[data['CONCPT6'] == 22634, 'LEVELS'] = 'Multiple'\n",
    "data.loc[data['CONCPT7'] == 22634, 'LEVELS'] = 'Multiple'\n",
    "data.loc[data['CONCPT9'] == 22634, 'LEVELS'] = 'Multiple'\n",
    "data.loc[data['CONCPT10'] == 22634, 'LEVELS'] = 'Multiple'\n",
    "data.loc[data['OTHERCPT1'] == 22634, 'LEVELS'] = 'Multiple'\n",
    "data.loc[data['OTHERCPT2'] == 22634, 'LEVELS'] = 'Multiple'\n",
    "data.loc[data['OTHERCPT3'] == 22634, 'LEVELS'] = 'Multiple'\n",
    "data.loc[data['OTHERCPT4'] == 22634, 'LEVELS'] = 'Multiple'\n",
    "data.loc[data['OTHERCPT5'] == 22634, 'LEVELS'] = 'Multiple'\n",
    "data.loc[data['OTHERCPT6'] == 22634, 'LEVELS'] = 'Multiple'\n",
    "data.loc[data['OTHERCPT7'] == 22634, 'LEVELS'] = 'Multiple'\n",
    "data.loc[data['OTHERCPT9'] == 22634, 'LEVELS'] = 'Multiple'\n",
    "data.loc[data['OTHERCPT10'] == 22634, 'LEVELS'] = 'Multiple'\n",
    "\n",
    "data.loc[data['LEVELS'] != 'Multiple', 'LEVELS'] = 'Single'\n",
    "\n",
    "data['LEVELS'].value_counts(dropna=False)"
   ]
  },
  {
   "cell_type": "code",
   "execution_count": null,
   "id": "89c3263c",
   "metadata": {
    "colab": {
     "base_uri": "https://localhost:8080/"
    },
    "id": "89c3263c",
    "outputId": "9212a2df-43e4-4e6f-a872-2d4f7e936d9b"
   },
   "outputs": [],
   "source": [
    "#See LOS per patient.\n",
    "\n",
    "data['TOTHLOS'].value_counts()"
   ]
  },
  {
   "cell_type": "code",
   "execution_count": null,
   "id": "2zHKamnxDlcr",
   "metadata": {
    "id": "2zHKamnxDlcr"
   },
   "outputs": [],
   "source": [
    "#Drop patients with unknown LOS.\n",
    "\n",
    "data = data[data['TOTHLOS'].notna()]"
   ]
  },
  {
   "cell_type": "code",
   "execution_count": null,
   "id": "YOVkj1Ozj_pD",
   "metadata": {
    "colab": {
     "base_uri": "https://localhost:8080/"
    },
    "id": "YOVkj1Ozj_pD",
    "outputId": "b37e7205-f75f-4e66-dc6b-9e980895290b"
   },
   "outputs": [],
   "source": [
    "#Show LOS after dropping patients with unknown LOS.\n",
    "\n",
    "data['TOTHLOS'].value_counts(dropna=False)"
   ]
  },
  {
   "cell_type": "code",
   "execution_count": null,
   "id": "fdfccc33",
   "metadata": {
    "colab": {
     "base_uri": "https://localhost:8080/"
    },
    "id": "fdfccc33",
    "outputId": "21eb9bd0-c014-47a1-9420-5a09d0b8b8f2"
   },
   "outputs": [],
   "source": [
    "#See 75th percentile of LOS.\n",
    "data.TOTHLOS.quantile(0.75)"
   ]
  },
  {
   "cell_type": "code",
   "execution_count": null,
   "id": "25d22d50",
   "metadata": {
    "id": "25d22d50"
   },
   "outputs": [],
   "source": [
    "#Convert total length of stay into categorical data in a column named 'LOS'.\n",
    "\n",
    "data.loc[data['TOTHLOS'] <= data.TOTHLOS.quantile(0.75), 'LOS'] = 'No'\n",
    "data.loc[data['TOTHLOS'] > data.TOTHLOS.quantile(0.75), 'LOS'] = 'Yes'"
   ]
  },
  {
   "cell_type": "code",
   "execution_count": null,
   "id": "00cadcb7",
   "metadata": {
    "colab": {
     "base_uri": "https://localhost:8080/"
    },
    "id": "00cadcb7",
    "outputId": "ec118f01-5a60-4732-8664-385fbc07639e"
   },
   "outputs": [],
   "source": [
    "#Show prolonged LOS as categorical.\n",
    "\n",
    "data['LOS'].value_counts(dropna=False)"
   ]
  },
  {
   "cell_type": "code",
   "execution_count": null,
   "id": "ca132d46",
   "metadata": {
    "colab": {
     "base_uri": "https://localhost:8080/"
    },
    "id": "ca132d46",
    "outputId": "8b218a10-f67b-48db-8c75-bf21a07a8dd0"
   },
   "outputs": [],
   "source": [
    "#Define major complications.\n",
    "\n",
    "data['MAJRCOMP'] = data['NWNDINFD'] + data['NORGSPCSSI'] + data['NDEHIS'] + data['NREINTUB'] + data['NPULEMBOL'] + data['NFAILWEAN'] + data['NRENAINSF'] + data['NOPRENAFL'] + data['NCNSCVA'] + data['NCDARREST'] + data['NCDMI'] + data['NOTHBLEED'] + data['NOTHDVT'] + data['NOTHSYSEP'] + data['NOTHSESHOCK']"
   ]
  },
  {
   "cell_type": "code",
   "execution_count": null,
   "id": "a273cdf1",
   "metadata": {
    "colab": {
     "base_uri": "https://localhost:8080/"
    },
    "id": "a273cdf1",
    "outputId": "1d592db6-6833-4662-a986-4ddef7193a17"
   },
   "outputs": [],
   "source": [
    "#Show number of major complications per patient.\n",
    "\n",
    "data['MAJRCOMP'].value_counts()"
   ]
  },
  {
   "cell_type": "code",
   "execution_count": null,
   "id": "fede78c8",
   "metadata": {
    "id": "fede78c8"
   },
   "outputs": [],
   "source": [
    "#Convert major complications into categorical data in a column named 'COMP'.\n",
    "\n",
    "data.loc[data['MAJRCOMP'] == 0, 'COMP'] = 'No'\n",
    "data.loc[data['MAJRCOMP'] >= 1, 'COMP'] = 'Yes'"
   ]
  },
  {
   "cell_type": "code",
   "execution_count": null,
   "id": "aa5c95a3",
   "metadata": {
    "colab": {
     "base_uri": "https://localhost:8080/"
    },
    "id": "aa5c95a3",
    "outputId": "7f88a3bb-7e3a-4af9-ecb0-fa2565c7e566"
   },
   "outputs": [],
   "source": [
    "#Show major complications as categorical.\n",
    "\n",
    "data['COMP'].value_counts()"
   ]
  },
  {
   "cell_type": "code",
   "execution_count": null,
   "id": "9432HuAcjwfO",
   "metadata": {
    "id": "9432HuAcjwfO"
   },
   "outputs": [],
   "source": [
    "#Drop patients with unknown major complications status.\n",
    "\n",
    "data = data[data['COMP'].notna()]"
   ]
  },
  {
   "cell_type": "code",
   "execution_count": null,
   "id": "n9nxQIeaj3pH",
   "metadata": {
    "colab": {
     "base_uri": "https://localhost:8080/"
    },
    "id": "n9nxQIeaj3pH",
    "outputId": "4cb646d3-1a0d-42e0-b827-7db1d5c8cf60"
   },
   "outputs": [],
   "source": [
    "#Show major complication status after dropping patients with unknown major complication status.\n",
    "\n",
    "data['COMP'].value_counts(dropna=False)"
   ]
  },
  {
   "cell_type": "code",
   "execution_count": null,
   "id": "afff01b4",
   "metadata": {
    "colab": {
     "base_uri": "https://localhost:8080/"
    },
    "id": "afff01b4",
    "outputId": "5a63e14a-f55f-457b-abd7-81a13256748d"
   },
   "outputs": [],
   "source": [
    "#Show readmission status.\n",
    "\n",
    "data['READMISSION1'].value_counts(dropna=False)"
   ]
  },
  {
   "cell_type": "code",
   "execution_count": null,
   "id": "678588ba",
   "metadata": {
    "id": "678588ba"
   },
   "outputs": [],
   "source": [
    "#Drop patients with unknown readmission status.\n",
    "\n",
    "data = data[data['READMISSION1'].notna()]"
   ]
  },
  {
   "cell_type": "code",
   "execution_count": null,
   "id": "40d739c5",
   "metadata": {
    "colab": {
     "base_uri": "https://localhost:8080/"
    },
    "id": "40d739c5",
    "outputId": "51cb0e50-0eb9-46cc-8de7-7c9f7733f6a1"
   },
   "outputs": [],
   "source": [
    "#Show readmission status after dropping patients with unknown readmission status.\n",
    "\n",
    "data['READMISSION1'].value_counts(dropna=False)"
   ]
  },
  {
   "cell_type": "code",
   "execution_count": null,
   "id": "b8c302ed",
   "metadata": {
    "colab": {
     "base_uri": "https://localhost:8080/"
    },
    "id": "b8c302ed",
    "outputId": "39c2a75c-c666-4e05-a341-4779dd489318"
   },
   "outputs": [],
   "source": [
    "#Show discharge status.\n",
    "\n",
    "data['DISCHDEST'].value_counts(dropna=False)"
   ]
  },
  {
   "cell_type": "code",
   "execution_count": null,
   "id": "4e3ce5cb",
   "metadata": {
    "id": "4e3ce5cb"
   },
   "outputs": [],
   "source": [
    "#Convert discharge destination into binary data (home vs. non-home discharge) in a column named 'DISCHARGE'.\n",
    "\n",
    "data.loc[data['DISCHDEST'] == 'Home', 'DISCHARGE'] = 'No'\n",
    "data.loc[data['DISCHDEST'] == 'Facility Which was Home', 'DISCHARGE'] = 'No'\n",
    "data.loc[data['DISCHDEST'] == 'Skilled Care, Not Home', 'DISCHARGE'] = 'Yes'\n",
    "data.loc[data['DISCHDEST'] == 'Rehab', 'DISCHARGE'] = 'Yes'\n",
    "data.loc[data['DISCHDEST'] == 'Separate Acute Care', 'DISCHARGE'] = 'Yes'\n",
    "data.loc[data['DISCHDEST'] == 'Multi-level Senior Community', 'DISCHARGE'] = 'Yes'"
   ]
  },
  {
   "cell_type": "code",
   "execution_count": null,
   "id": "8785261c",
   "metadata": {
    "colab": {
     "base_uri": "https://localhost:8080/"
    },
    "id": "8785261c",
    "outputId": "ebc9b8d8-9b48-49b1-baf9-f6cf57e8898b"
   },
   "outputs": [],
   "source": [
    "#Show discharge destination status after converting it to binary data.\n",
    "\n",
    "data['DISCHARGE'].value_counts(dropna=False)"
   ]
  },
  {
   "cell_type": "code",
   "execution_count": null,
   "id": "191e7b5a",
   "metadata": {
    "id": "191e7b5a"
   },
   "outputs": [],
   "source": [
    "#Drop patients with unknown discharge status.\n",
    "\n",
    "data = data[data['DISCHARGE'].notna()]"
   ]
  },
  {
   "cell_type": "code",
   "execution_count": null,
   "id": "c9a5c184",
   "metadata": {
    "colab": {
     "base_uri": "https://localhost:8080/"
    },
    "id": "c9a5c184",
    "outputId": "d0d44f95-ec5a-4fd7-9546-f918975afd2b"
   },
   "outputs": [],
   "source": [
    "#Show discharge status after dropping patients with unknown discharge status.\n",
    "\n",
    "data['DISCHARGE'].value_counts(dropna=False)"
   ]
  },
  {
   "cell_type": "code",
   "execution_count": null,
   "id": "aa861235",
   "metadata": {
    "colab": {
     "base_uri": "https://localhost:8080/"
    },
    "id": "aa861235",
    "outputId": "b4742959-2b07-4c5e-cffe-9a90f2b637c0"
   },
   "outputs": [],
   "source": [
    "#Check data.\n",
    "\n",
    "data.shape"
   ]
  },
  {
   "cell_type": "code",
   "execution_count": null,
   "id": "55ead6a8",
   "metadata": {
    "colab": {
     "base_uri": "https://localhost:8080/"
    },
    "id": "55ead6a8",
    "outputId": "23ffafa3-898e-489d-d3aa-d544f9e0bc69"
   },
   "outputs": [],
   "source": [
    "#See all columns.\n",
    "\n",
    "print(list(data.columns))"
   ]
  },
  {
   "cell_type": "code",
   "execution_count": null,
   "id": "a7b333b1",
   "metadata": {
    "id": "a7b333b1"
   },
   "outputs": [],
   "source": [
    "#Drop unwanted columns.\n",
    "\n",
    "drop = ['RACE_NEW', 'ETHNICITY_HISPANIC', 'CPT',  'DISCHDEST', 'ANESTHES', 'ELECTSURG', 'PRSEPIS', 'OTHERCPT1', 'OTHERCPT2', 'OTHERCPT3', 'OTHERCPT4', 'OTHERCPT5', 'OTHERCPT6', 'OTHERCPT7', 'OTHERCPT8', 'OTHERCPT9', 'OTHERCPT10', 'CONCPT1', 'CONCPT2', 'CONCPT3', 'CONCPT4', 'CONCPT5', 'CONCPT6', 'CONCPT7', 'CONCPT8', 'CONCPT9', 'CONCPT10', 'EMERGNCY', 'WNDCLAS', 'OPTIME', 'TOTHLOS', 'HTOODAY', 'NSUPINFEC', 'NWNDINFD', 'NORGSPCSSI', 'NDEHIS', 'NOUPNEUMO', 'NREINTUB', 'NPULEMBOL', 'NFAILWEAN', 'NRENAINSF', 'NOPRENAFL', 'NURNINFEC', 'NCNSCVA', 'NCDARREST', 'NCDMI', 'NOTHBLEED', 'NOTHDVT', 'NOTHSYSEP', 'NOTHSESHOCK', 'PODIAG', 'PODIAG10', 'STILLINHOSP', 'CPT_EX', 'MAJRCOMP']\n",
    "data.drop(drop, axis=1, inplace=True)"
   ]
  },
  {
   "cell_type": "code",
   "execution_count": null,
   "id": "5f8c4150",
   "metadata": {
    "id": "5f8c4150"
   },
   "outputs": [],
   "source": [
    "#Save data.\n",
    "\n",
    "data.to_csv('/content/drive/MyDrive/NSQIP-PLF/plf_clean.csv')"
   ]
  },
  {
   "cell_type": "code",
   "execution_count": null,
   "id": "11efb52b",
   "metadata": {
    "colab": {
     "base_uri": "https://localhost:8080/"
    },
    "id": "11efb52b",
    "outputId": "c70c1b9d-9b91-4325-ad34-edbb7fe03f23"
   },
   "outputs": [],
   "source": [
    "#See categorical and continuous variables.\n",
    "\n",
    "print('Numerical columns: {}'.format(list(data.select_dtypes('number').columns)))\n",
    "print()\n",
    "print('Categorical columns: {}'.format(list(data.select_dtypes('object').columns)))"
   ]
  },
  {
   "cell_type": "code",
   "execution_count": null,
   "id": "282afb2e",
   "metadata": {
    "id": "282afb2e"
   },
   "outputs": [],
   "source": [
    "#Define numerical and categorical columns.\n",
    "\n",
    "num_cols = ['AGE', 'HEIGHT', 'WEIGHT', 'PRSODM', 'PRBUN', 'PRCREAT', 'PRALBUM', 'PRBILI', 'PRSGOT', 'PRALKPH', 'PRWBC', 'PRHCT', 'PRPLATE', 'PRPTT', 'PRINR', 'PRPT', 'BMI']\n",
    "\n",
    "cat_cols = ['SEX', 'INOUT', 'TRANST', 'SURGSPEC', 'DIABETES', 'SMOKE', 'DYSPNEA', 'FNSTATUS2', 'VENTILAT', 'HXCOPD', 'ASCITES', 'HXCHF', 'HYPERMED', 'RENAFAIL', 'DIALYSIS', 'DISCANCR', 'WNDINF', 'STEROID', 'WTLOSS', 'BLEEDDIS', 'TRANSFUS', 'ASACLAS', 'READMISSION1', 'RACE', 'LEVELS', 'COMP', 'LOS', 'DISCHARGE']"
   ]
  },
  {
   "cell_type": "code",
   "execution_count": null,
   "id": "f7a6bff0",
   "metadata": {
    "colab": {
     "base_uri": "https://localhost:8080/"
    },
    "id": "f7a6bff0",
    "outputId": "8b12b58d-4064-4dd1-f776-cd994a9f7bde"
   },
   "outputs": [],
   "source": [
    "#Check missing values for numerical columns.\n",
    "\n",
    "missing_num = data[num_cols].isnull().mean().round(4).mul(100).sort_values(ascending=False)\n",
    "\n",
    "missing_num = pd.DataFrame(missing_num)\n",
    "\n",
    "missing_num.columns = ['Value']\n",
    "\n",
    "missing_num = missing_num[missing_num['Value'] > 0]\n",
    "\n",
    "print(missing_num.index)\n",
    "\n",
    "missing_num = missing_num[missing_num['Value'] > 25]\n",
    "\n",
    "missing_num = list(missing_num.index)\n",
    "\n",
    "print(missing_num)"
   ]
  },
  {
   "cell_type": "code",
   "execution_count": null,
   "id": "e128cfb5",
   "metadata": {
    "id": "e128cfb5"
   },
   "outputs": [],
   "source": [
    "#Drop numerical columns with missing values over 25%.\n",
    "\n",
    "data.drop(missing_num, axis=1, inplace=True)"
   ]
  },
  {
   "cell_type": "code",
   "execution_count": null,
   "id": "4756b292",
   "metadata": {
    "colab": {
     "base_uri": "https://localhost:8080/"
    },
    "id": "4756b292",
    "outputId": "01077aee-93bf-4017-eb38-422e6310068d"
   },
   "outputs": [],
   "source": [
    "#Define new numerical columns.\n",
    "\n",
    "num_cols = [x for x in num_cols if x not in missing_num]\n",
    "print(num_cols)"
   ]
  },
  {
   "cell_type": "code",
   "execution_count": null,
   "id": "ff8609cd",
   "metadata": {
    "id": "ff8609cd"
   },
   "outputs": [],
   "source": [
    "#Impute missing numerical values.\n",
    "\n",
    "num_imputer = KNNImputer(n_neighbors=5, weights='uniform', metric='nan_euclidean')\n",
    "data[num_cols] = num_imputer.fit_transform(data[num_cols])"
   ]
  },
  {
   "cell_type": "code",
   "execution_count": null,
   "id": "0dac04c6",
   "metadata": {
    "colab": {
     "base_uri": "https://localhost:8080/"
    },
    "id": "0dac04c6",
    "outputId": "09be3401-e8d3-473f-d829-c3ced4808d3c"
   },
   "outputs": [],
   "source": [
    "#Check numerical variables with missing values after imputation.\n",
    "\n",
    "data[num_cols].isnull().mean().round(4).mul(100).sort_values(ascending=False)"
   ]
  },
  {
   "cell_type": "code",
   "execution_count": null,
   "id": "01b6490e",
   "metadata": {
    "colab": {
     "base_uri": "https://localhost:8080/"
    },
    "id": "01b6490e",
    "outputId": "f615e209-66ce-4e85-8b76-624e4e73e1ac"
   },
   "outputs": [],
   "source": [
    "#Check missing values for categorical columns.\n",
    "\n",
    "missing_cat = data[cat_cols].isnull().mean().round(4).mul(100).sort_values(ascending=False)\n",
    "\n",
    "missing_cat = pd.DataFrame(missing_cat)\n",
    "\n",
    "missing_cat.columns = ['Value']\n",
    "\n",
    "missing_cat = missing_cat[missing_cat['Value'] > 0]\n",
    "\n",
    "print(missing_cat.index)\n",
    "\n",
    "missing_cat = missing_cat[missing_cat['Value'] > 25]\n",
    "\n",
    "missing_cat = list(missing_cat.index)\n",
    "\n",
    "print(missing_cat)"
   ]
  },
  {
   "cell_type": "code",
   "execution_count": null,
   "id": "89d3cdc4",
   "metadata": {
    "id": "89d3cdc4"
   },
   "outputs": [],
   "source": [
    "#Drop categorical columns with missing values over 25%.\n",
    "\n",
    "data.drop(missing_cat, axis=1, inplace=True)"
   ]
  },
  {
   "cell_type": "code",
   "execution_count": null,
   "id": "680fe385",
   "metadata": {
    "colab": {
     "base_uri": "https://localhost:8080/"
    },
    "id": "680fe385",
    "outputId": "06b6ef4f-3ad0-4bf9-ded6-3a6c6525aee4"
   },
   "outputs": [],
   "source": [
    "#Define new categorical columns.\n",
    "\n",
    "cat_cols = [x for x in cat_cols if x not in missing_cat]\n",
    "print(cat_cols)"
   ]
  },
  {
   "cell_type": "code",
   "execution_count": null,
   "id": "9250b986",
   "metadata": {
    "id": "9250b986"
   },
   "outputs": [],
   "source": [
    "#Replace missing categorical values with 'Unknown'.\n",
    "\n",
    "for col in cat_cols:\n",
    "    data[col].fillna(value='Unknown', inplace=True)"
   ]
  },
  {
   "cell_type": "code",
   "execution_count": null,
   "id": "adfd5ff2",
   "metadata": {
    "colab": {
     "base_uri": "https://localhost:8080/"
    },
    "id": "adfd5ff2",
    "outputId": "bb20c025-1cbc-4424-a2a6-6f77203f7f5b"
   },
   "outputs": [],
   "source": [
    "#Check missing values after imputation.\n",
    "\n",
    "data[cat_cols].isnull().mean().round(4).mul(100).sort_values(ascending=False)"
   ]
  },
  {
   "cell_type": "code",
   "execution_count": null,
   "id": "2289a865",
   "metadata": {
    "id": "2289a865"
   },
   "outputs": [],
   "source": [
    "#Save imputed data.\n",
    "\n",
    "data.to_csv('/content/drive/MyDrive/NSQIP-PLF/plf_imputed.csv')"
   ]
  },
  {
   "cell_type": "code",
   "execution_count": null,
   "id": "4336ba8a",
   "metadata": {
    "id": "4336ba8a"
   },
   "outputs": [],
   "source": [
    "#Normalize data.\n",
    "\n",
    "data[num_cols] = MinMaxScaler().fit_transform(data[num_cols])"
   ]
  },
  {
   "cell_type": "code",
   "execution_count": null,
   "id": "c5490d9b",
   "metadata": {
    "id": "c5490d9b"
   },
   "outputs": [],
   "source": [
    "#Save scaled data.\n",
    "\n",
    "data.to_csv('/content/drive/MyDrive/NSQIP-PLF/plf_scaled.csv')"
   ]
  },
  {
   "cell_type": "code",
   "execution_count": null,
   "id": "dfbec9b0",
   "metadata": {
    "id": "dfbec9b0"
   },
   "outputs": [],
   "source": [
    "#One hot encoding for categorical values.\n",
    "\n",
    "data_final = pd.get_dummies(data, columns = cat_cols, drop_first = True)"
   ]
  },
  {
   "cell_type": "code",
   "execution_count": null,
   "id": "cc12859a",
   "metadata": {
    "id": "cc12859a"
   },
   "outputs": [],
   "source": [
    "#Save final data.\n",
    "\n",
    "data_final.to_csv('/content/drive/MyDrive/NSQIP-PLF/plf_final.csv')"
   ]
  }
 ],
 "metadata": {
  "colab": {
   "machine_shape": "hm",
   "provenance": []
  },
  "environment": {
   "kernel": "python3",
   "name": "common-cpu.m100",
   "type": "gcloud",
   "uri": "gcr.io/deeplearning-platform-release/base-cpu:m100"
  },
  "gpuClass": "standard",
  "kernelspec": {
   "display_name": "Python 3 (ipykernel)",
   "language": "python",
   "name": "python3"
  },
  "language_info": {
   "codemirror_mode": {
    "name": "ipython",
    "version": 3
   },
   "file_extension": ".py",
   "mimetype": "text/x-python",
   "name": "python",
   "nbconvert_exporter": "python",
   "pygments_lexer": "ipython3",
   "version": "3.9.13"
  }
 },
 "nbformat": 4,
 "nbformat_minor": 5
}
