{
 "cells": [
  {
   "cell_type": "code",
   "execution_count": null,
   "id": "NUoUw1WrLesI",
   "metadata": {
    "colab": {
     "base_uri": "https://localhost:8080/"
    },
    "id": "NUoUw1WrLesI",
    "outputId": "79f68762-f294-4ae3-f4ce-3bcec7de0f7c"
   },
   "outputs": [],
   "source": [
    "from google.colab import drive\n",
    "drive.mount('/content/drive')"
   ]
  },
  {
   "cell_type": "code",
   "execution_count": null,
   "id": "b7069c46-b444-4100-b7d9-c884c759b493",
   "metadata": {
    "id": "b7069c46-b444-4100-b7d9-c884c759b493"
   },
   "outputs": [],
   "source": [
    "import pandas as pd"
   ]
  },
  {
   "cell_type": "code",
   "execution_count": null,
   "id": "83ebea8e-eaf9-4e4c-95b0-7b18bcac7215",
   "metadata": {
    "id": "83ebea8e-eaf9-4e4c-95b0-7b18bcac7215"
   },
   "outputs": [],
   "source": [
    "#Read 2020 data.\n",
    "\n",
    "df2020 = pd.read_csv(\"/content/drive/MyDrive/NSQIP-PUFs/NSQIP_2020.csv\", index_col = 'CaseID', encoding = 'latin1', low_memory = False)\n",
    "\n",
    "df2020.columns = map(str.upper, df2020.columns)"
   ]
  },
  {
   "cell_type": "code",
   "execution_count": null,
   "id": "37b4e4d8-f7d9-4715-86e4-a52a158b4626",
   "metadata": {
    "id": "37b4e4d8-f7d9-4715-86e4-a52a158b4626"
   },
   "outputs": [],
   "source": [
    "#Drop the columns that are not present in other years.\n",
    "\n",
    "df2020 = df2020.drop(columns=['EOL_WDCARE', 'BLEED_UNITS_TOT'])"
   ]
  },
  {
   "cell_type": "code",
   "execution_count": null,
   "id": "336cffa1-eca7-41ba-9fda-844b73a7068f",
   "metadata": {
    "colab": {
     "base_uri": "https://localhost:8080/"
    },
    "id": "336cffa1-eca7-41ba-9fda-844b73a7068f",
    "outputId": "1d2c19ac-8ff3-43bf-8057-8a02b0cf3342"
   },
   "outputs": [],
   "source": [
    "#Check 2020 data shape.\n",
    "\n",
    "df2020.shape"
   ]
  },
  {
   "cell_type": "code",
   "execution_count": null,
   "id": "085e47a0-deef-46ab-be43-3c70880b3cce",
   "metadata": {
    "colab": {
     "base_uri": "https://localhost:8080/"
    },
    "id": "085e47a0-deef-46ab-be43-3c70880b3cce",
    "outputId": "53cea2fa-f32c-486a-f8dc-00579528d783"
   },
   "outputs": [],
   "source": [
    "#Identify PLF with CPT codes.\n",
    "\n",
    "df2020_plf = df2020[(df2020['CPT'] == 22612) | (df2020['CONCPT1'] == 22612) | (df2020['CONCPT2'] == 22612) | (df2020['CONCPT3'] == 22612) | (df2020['CONCPT4'] == 22612) | (df2020['CONCPT5'] == 22612) | (df2020['CONCPT6'] == 22612) | (df2020['CONCPT7'] == 22612) | (df2020['CONCPT8'] == 22612) | (df2020['CONCPT9'] == 22612) | (df2020['CONCPT10'] == 22612) | (df2020['OTHERCPT1'] == 22612) | (df2020['OTHERCPT2'] == 22612) | (df2020['OTHERCPT3'] == 22612) | (df2020['OTHERCPT4'] == 22612) | (df2020['OTHERCPT5'] == 22612) | (df2020['OTHERCPT6'] == 22612) | (df2020['OTHERCPT7'] == 22612) | (df2020['OTHERCPT8'] == 22612) | (df2020['OTHERCPT9'] == 22612) | (df2020['OTHERCPT10'] == 22612) | (df2020['CPT'] == 22630) | (df2020['CONCPT1'] == 22630) | (df2020['CONCPT2'] == 22630) | (df2020['CONCPT3'] == 22630) | (df2020['CONCPT4'] == 22630) | (df2020['CONCPT5'] == 22630) | (df2020['CONCPT6'] == 22630) | (df2020['CONCPT7'] == 22630) | (df2020['CONCPT8'] == 22630) | (df2020['CONCPT9'] == 22630) | (df2020['CONCPT10'] == 22630) | (df2020['OTHERCPT1'] == 22630) | (df2020['OTHERCPT2'] == 22630) | (df2020['OTHERCPT3'] == 22630) | (df2020['OTHERCPT4'] == 22630) | (df2020['OTHERCPT5'] == 22630) | (df2020['OTHERCPT6'] == 22630) | (df2020['OTHERCPT7'] == 22630) | (df2020['OTHERCPT8'] == 22630) | (df2020['OTHERCPT9'] == 22630) | (df2020['OTHERCPT10'] == 22630) | (df2020['CPT'] == 22633) | (df2020['CONCPT1'] == 22633) | (df2020['CONCPT2'] == 22633) | (df2020['CONCPT3'] == 22633) | (df2020['CONCPT4'] == 22633) | (df2020['CONCPT5'] == 22633) | (df2020['CONCPT6'] == 22633) | (df2020['CONCPT7'] == 22633) | (df2020['CONCPT8'] == 22633) | (df2020['CONCPT9'] == 22633) | (df2020['CONCPT10'] == 22633) | (df2020['OTHERCPT1'] == 22633) | (df2020['OTHERCPT2'] == 22633) | (df2020['OTHERCPT3'] == 22633) | (df2020['OTHERCPT4'] == 22633) | (df2020['OTHERCPT5'] == 22633) | (df2020['OTHERCPT6'] == 22633) | (df2020['OTHERCPT7'] == 22633) | (df2020['OTHERCPT8'] == 22633) | (df2020['OTHERCPT9'] == 22633) | (df2020['OTHERCPT10'] == 22633)]\n",
    "print(df2020_plf.shape)"
   ]
  },
  {
   "cell_type": "code",
   "execution_count": null,
   "id": "a9542653-5403-410b-bf62-664e14f6462b",
   "metadata": {
    "id": "a9542653-5403-410b-bf62-664e14f6462b"
   },
   "outputs": [],
   "source": [
    "#Read 2019 data.\n",
    "\n",
    "df2019 = pd.read_csv(\"/content/drive/MyDrive/NSQIP-PUFs/NSQIP_2019.csv\", index_col = 'CASEID', encoding = 'latin1', low_memory = False)\n",
    "\n",
    "df2019.columns = map(str.upper, df2019.columns)"
   ]
  },
  {
   "cell_type": "code",
   "execution_count": null,
   "id": "779f98b3-ebfc-45bc-97b6-084feee4fb16",
   "metadata": {
    "colab": {
     "base_uri": "https://localhost:8080/"
    },
    "id": "779f98b3-ebfc-45bc-97b6-084feee4fb16",
    "outputId": "46bf1c41-fc3c-4ded-e25e-9d0d8b196ff6"
   },
   "outputs": [],
   "source": [
    "#Check 2019 data shape.\n",
    "\n",
    "df2019.shape"
   ]
  },
  {
   "cell_type": "code",
   "execution_count": null,
   "id": "c6fb2a92-7924-4965-8282-2fd54bcac03b",
   "metadata": {
    "colab": {
     "base_uri": "https://localhost:8080/"
    },
    "id": "c6fb2a92-7924-4965-8282-2fd54bcac03b",
    "outputId": "02f6cde3-72b8-43d2-93cf-8b7ea897f5e1"
   },
   "outputs": [],
   "source": [
    "#Identify PLF with CPT codes.\n",
    "\n",
    "df2019_plf = df2019[(df2019['CPT'] == 22612) | (df2019['CONCPT1'] == 22612) | (df2019['CONCPT2'] == 22612) | (df2019['CONCPT3'] == 22612) | (df2019['CONCPT4'] == 22612) | (df2019['CONCPT5'] == 22612) | (df2019['CONCPT6'] == 22612) | (df2019['CONCPT7'] == 22612) | (df2019['CONCPT8'] == 22612) | (df2019['CONCPT9'] == 22612) | (df2019['CONCPT10'] == 22612) | (df2019['OTHERCPT1'] == 22612) | (df2019['OTHERCPT2'] == 22612) | (df2019['OTHERCPT3'] == 22612) | (df2019['OTHERCPT4'] == 22612) | (df2019['OTHERCPT5'] == 22612) | (df2019['OTHERCPT6'] == 22612) | (df2019['OTHERCPT7'] == 22612) | (df2019['OTHERCPT8'] == 22612) | (df2019['OTHERCPT9'] == 22612) | (df2019['OTHERCPT10'] == 22612) | (df2019['CPT'] == 22630) | (df2019['CONCPT1'] == 22630) | (df2019['CONCPT2'] == 22630) | (df2019['CONCPT3'] == 22630) | (df2019['CONCPT4'] == 22630) | (df2019['CONCPT5'] == 22630) | (df2019['CONCPT6'] == 22630) | (df2019['CONCPT7'] == 22630) | (df2019['CONCPT8'] == 22630) | (df2019['CONCPT9'] == 22630) | (df2019['CONCPT10'] == 22630) | (df2019['OTHERCPT1'] == 22630) | (df2019['OTHERCPT2'] == 22630) | (df2019['OTHERCPT3'] == 22630) | (df2019['OTHERCPT4'] == 22630) | (df2019['OTHERCPT5'] == 22630) | (df2019['OTHERCPT6'] == 22630) | (df2019['OTHERCPT7'] == 22630) | (df2019['OTHERCPT8'] == 22630) | (df2019['OTHERCPT9'] == 22630) | (df2019['OTHERCPT10'] == 22630) | (df2019['CPT'] == 22633) | (df2019['CONCPT1'] == 22633) | (df2019['CONCPT2'] == 22633) | (df2019['CONCPT3'] == 22633) | (df2019['CONCPT4'] == 22633) | (df2019['CONCPT5'] == 22633) | (df2019['CONCPT6'] == 22633) | (df2019['CONCPT7'] == 22633) | (df2019['CONCPT8'] == 22633) | (df2019['CONCPT9'] == 22633) | (df2019['CONCPT10'] == 22633) | (df2019['OTHERCPT1'] == 22633) | (df2019['OTHERCPT2'] == 22633) | (df2019['OTHERCPT3'] == 22633) | (df2019['OTHERCPT4'] == 22633) | (df2019['OTHERCPT5'] == 22633) | (df2019['OTHERCPT6'] == 22633) | (df2019['OTHERCPT7'] == 22633) | (df2019['OTHERCPT8'] == 22633) | (df2019['OTHERCPT9'] == 22633) | (df2019['OTHERCPT10'] == 22633)]\n",
    "print(df2019_plf.shape)"
   ]
  },
  {
   "cell_type": "code",
   "execution_count": null,
   "id": "cb772fcf-d268-4221-93a0-5eb5c265c935",
   "metadata": {
    "id": "cb772fcf-d268-4221-93a0-5eb5c265c935"
   },
   "outputs": [],
   "source": [
    "#Read 2018 data.\n",
    "\n",
    "df2018 = pd.read_csv(\"/content/drive/MyDrive/NSQIP-PUFs/NSQIP_2018.csv\", index_col = 'CaseID', encoding = 'latin1', low_memory = False)\n",
    "\n",
    "df2018.columns = map(str.upper, df2018.columns)"
   ]
  },
  {
   "cell_type": "code",
   "execution_count": null,
   "id": "e40d915a-d1c3-4efd-b325-6245ec91323d",
   "metadata": {
    "colab": {
     "base_uri": "https://localhost:8080/"
    },
    "id": "e40d915a-d1c3-4efd-b325-6245ec91323d",
    "outputId": "3922b6dc-2589-4e4d-aafb-5de0d36f06e9"
   },
   "outputs": [],
   "source": [
    "#Check 2018 data shape.\n",
    "\n",
    "df2018.shape"
   ]
  },
  {
   "cell_type": "code",
   "execution_count": null,
   "id": "e8bc3025-d320-46fb-8a4b-e2ba478dbb30",
   "metadata": {
    "colab": {
     "base_uri": "https://localhost:8080/"
    },
    "id": "e8bc3025-d320-46fb-8a4b-e2ba478dbb30",
    "outputId": "6b05976f-b9ac-4098-e341-8dde70bc7aa5"
   },
   "outputs": [],
   "source": [
    "#Identify PLF with CPT codes.\n",
    "\n",
    "df2018_plf = df2018[(df2018['CPT'] == 22612) | (df2018['CONCPT1'] == 22612) | (df2018['CONCPT2'] == 22612) | (df2018['CONCPT3'] == 22612) | (df2018['CONCPT4'] == 22612) | (df2018['CONCPT5'] == 22612) | (df2018['CONCPT6'] == 22612) | (df2018['CONCPT7'] == 22612) | (df2018['CONCPT8'] == 22612) | (df2018['CONCPT9'] == 22612) | (df2018['CONCPT10'] == 22612) | (df2018['OTHERCPT1'] == 22612) | (df2018['OTHERCPT2'] == 22612) | (df2018['OTHERCPT3'] == 22612) | (df2018['OTHERCPT4'] == 22612) | (df2018['OTHERCPT5'] == 22612) | (df2018['OTHERCPT6'] == 22612) | (df2018['OTHERCPT7'] == 22612) | (df2018['OTHERCPT8'] == 22612) | (df2018['OTHERCPT9'] == 22612) | (df2018['OTHERCPT10'] == 22612) | (df2018['CPT'] == 22630) | (df2018['CONCPT1'] == 22630) | (df2018['CONCPT2'] == 22630) | (df2018['CONCPT3'] == 22630) | (df2018['CONCPT4'] == 22630) | (df2018['CONCPT5'] == 22630) | (df2018['CONCPT6'] == 22630) | (df2018['CONCPT7'] == 22630) | (df2018['CONCPT8'] == 22630) | (df2018['CONCPT9'] == 22630) | (df2018['CONCPT10'] == 22630) | (df2018['OTHERCPT1'] == 22630) | (df2018['OTHERCPT2'] == 22630) | (df2018['OTHERCPT3'] == 22630) | (df2018['OTHERCPT4'] == 22630) | (df2018['OTHERCPT5'] == 22630) | (df2018['OTHERCPT6'] == 22630) | (df2018['OTHERCPT7'] == 22630) | (df2018['OTHERCPT8'] == 22630) | (df2018['OTHERCPT9'] == 22630) | (df2018['OTHERCPT10'] == 22630) | (df2018['CPT'] == 22633) | (df2018['CONCPT1'] == 22633) | (df2018['CONCPT2'] == 22633) | (df2018['CONCPT3'] == 22633) | (df2018['CONCPT4'] == 22633) | (df2018['CONCPT5'] == 22633) | (df2018['CONCPT6'] == 22633) | (df2018['CONCPT7'] == 22633) | (df2018['CONCPT8'] == 22633) | (df2018['CONCPT9'] == 22633) | (df2018['CONCPT10'] == 22633) | (df2018['OTHERCPT1'] == 22633) | (df2018['OTHERCPT2'] == 22633) | (df2018['OTHERCPT3'] == 22633) | (df2018['OTHERCPT4'] == 22633) | (df2018['OTHERCPT5'] == 22633) | (df2018['OTHERCPT6'] == 22633) | (df2018['OTHERCPT7'] == 22633) | (df2018['OTHERCPT8'] == 22633) | (df2018['OTHERCPT9'] == 22633) | (df2018['OTHERCPT10'] == 22633)]\n",
    "print(df2018_plf.shape)"
   ]
  },
  {
   "cell_type": "code",
   "execution_count": null,
   "id": "2JV9qfl7Dqw0",
   "metadata": {
    "id": "2JV9qfl7Dqw0"
   },
   "outputs": [],
   "source": [
    "#df2018_plf = df2019_plf.sample(n = df2018_plf.shape[0])"
   ]
  },
  {
   "cell_type": "code",
   "execution_count": null,
   "id": "5170bbc1-b5d3-4c09-9657-d25b0ac0ecba",
   "metadata": {
    "id": "5170bbc1-b5d3-4c09-9657-d25b0ac0ecba"
   },
   "outputs": [],
   "source": [
    "#Read 2017 data.\n",
    "\n",
    "df2017 = pd.read_csv(\"/content/drive/MyDrive/NSQIP-PUFs/NSQIP_2017.csv\", index_col = 'CaseID', encoding = 'latin1', low_memory = False)\n",
    "\n",
    "df2017.columns = map(str.upper, df2017.columns)"
   ]
  },
  {
   "cell_type": "code",
   "execution_count": null,
   "id": "992f5c92-fbb3-48d1-93de-b980c60a9ff3",
   "metadata": {
    "colab": {
     "base_uri": "https://localhost:8080/"
    },
    "id": "992f5c92-fbb3-48d1-93de-b980c60a9ff3",
    "outputId": "12cb6c65-3bc5-4a68-e928-d35b0562f3c8"
   },
   "outputs": [],
   "source": [
    "#Check 2017 data shape.\n",
    "\n",
    "df2017.shape"
   ]
  },
  {
   "cell_type": "code",
   "execution_count": null,
   "id": "37d5f575-43ab-4f3e-929a-70e0e0a75419",
   "metadata": {
    "colab": {
     "base_uri": "https://localhost:8080/"
    },
    "id": "37d5f575-43ab-4f3e-929a-70e0e0a75419",
    "outputId": "f7d9f87f-f0fa-4046-d316-65eb8b54989f"
   },
   "outputs": [],
   "source": [
    "#Identify PLF with CPT codes.\n",
    "\n",
    "df2017_plf = df2017[(df2017['CPT'] == 22612) | (df2017['CONCPT1'] == 22612) | (df2017['CONCPT2'] == 22612) | (df2017['CONCPT3'] == 22612) | (df2017['CONCPT4'] == 22612) | (df2017['CONCPT5'] == 22612) | (df2017['CONCPT6'] == 22612) | (df2017['CONCPT7'] == 22612) | (df2017['CONCPT8'] == 22612) | (df2017['CONCPT9'] == 22612) | (df2017['CONCPT10'] == 22612) | (df2017['OTHERCPT1'] == 22612) | (df2017['OTHERCPT2'] == 22612) | (df2017['OTHERCPT3'] == 22612) | (df2017['OTHERCPT4'] == 22612) | (df2017['OTHERCPT5'] == 22612) | (df2017['OTHERCPT6'] == 22612) | (df2017['OTHERCPT7'] == 22612) | (df2017['OTHERCPT8'] == 22612) | (df2017['OTHERCPT9'] == 22612) | (df2017['OTHERCPT10'] == 22612) | (df2017['CPT'] == 22630) | (df2017['CONCPT1'] == 22630) | (df2017['CONCPT2'] == 22630) | (df2017['CONCPT3'] == 22630) | (df2017['CONCPT4'] == 22630) | (df2017['CONCPT5'] == 22630) | (df2017['CONCPT6'] == 22630) | (df2017['CONCPT7'] == 22630) | (df2017['CONCPT8'] == 22630) | (df2017['CONCPT9'] == 22630) | (df2017['CONCPT10'] == 22630) | (df2017['OTHERCPT1'] == 22630) | (df2017['OTHERCPT2'] == 22630) | (df2017['OTHERCPT3'] == 22630) | (df2017['OTHERCPT4'] == 22630) | (df2017['OTHERCPT5'] == 22630) | (df2017['OTHERCPT6'] == 22630) | (df2017['OTHERCPT7'] == 22630) | (df2017['OTHERCPT8'] == 22630) | (df2017['OTHERCPT9'] == 22630) | (df2017['OTHERCPT10'] == 22630) | (df2017['CPT'] == 22633) | (df2017['CONCPT1'] == 22633) | (df2017['CONCPT2'] == 22633) | (df2017['CONCPT3'] == 22633) | (df2017['CONCPT4'] == 22633) | (df2017['CONCPT5'] == 22633) | (df2017['CONCPT6'] == 22633) | (df2017['CONCPT7'] == 22633) | (df2017['CONCPT8'] == 22633) | (df2017['CONCPT9'] == 22633) | (df2017['CONCPT10'] == 22633) | (df2017['OTHERCPT1'] == 22633) | (df2017['OTHERCPT2'] == 22633) | (df2017['OTHERCPT3'] == 22633) | (df2017['OTHERCPT4'] == 22633) | (df2017['OTHERCPT5'] == 22633) | (df2017['OTHERCPT6'] == 22633) | (df2017['OTHERCPT7'] == 22633) | (df2017['OTHERCPT8'] == 22633) | (df2017['OTHERCPT9'] == 22633) | (df2017['OTHERCPT10'] == 22633)]\n",
    "print(df2017_plf.shape)"
   ]
  },
  {
   "cell_type": "code",
   "execution_count": null,
   "id": "24ac9edb-b63f-4dae-a208-26ecf6c94b11",
   "metadata": {
    "id": "24ac9edb-b63f-4dae-a208-26ecf6c94b11"
   },
   "outputs": [],
   "source": [
    "#Read 2016 data.\n",
    "\n",
    "df2016 = pd.read_csv(\"/content/drive/MyDrive/NSQIP-PUFs/NSQIP_2016.csv\", index_col = 'CaseID', encoding = 'latin1', low_memory = False)\n",
    "\n",
    "df2016.columns = map(str.upper, df2016.columns)"
   ]
  },
  {
   "cell_type": "code",
   "execution_count": null,
   "id": "c12cee42-43df-40fc-990e-3e88acd63726",
   "metadata": {
    "colab": {
     "base_uri": "https://localhost:8080/"
    },
    "id": "c12cee42-43df-40fc-990e-3e88acd63726",
    "outputId": "019f13a4-dacf-4c31-e723-532b6522589f"
   },
   "outputs": [],
   "source": [
    "#Check 2016 data shape.\n",
    "\n",
    "df2016.shape"
   ]
  },
  {
   "cell_type": "code",
   "execution_count": null,
   "id": "dd9866b0-c2dc-4da0-b9a6-f738f20b4e7b",
   "metadata": {
    "colab": {
     "base_uri": "https://localhost:8080/"
    },
    "id": "dd9866b0-c2dc-4da0-b9a6-f738f20b4e7b",
    "outputId": "c0922d55-9c7a-42b0-ff52-a914c43c1709"
   },
   "outputs": [],
   "source": [
    "#Identify PLF with CPT codes.\n",
    "\n",
    "df2016_plf = df2016[(df2016['CPT'] == 22612) | (df2016['CONCPT1'] == 22612) | (df2016['CONCPT2'] == 22612) | (df2016['CONCPT3'] == 22612) | (df2016['CONCPT4'] == 22612) | (df2016['CONCPT5'] == 22612) | (df2016['CONCPT6'] == 22612) | (df2016['CONCPT7'] == 22612) | (df2016['CONCPT8'] == 22612) | (df2016['CONCPT9'] == 22612) | (df2016['CONCPT10'] == 22612) | (df2016['OTHERCPT1'] == 22612) | (df2016['OTHERCPT2'] == 22612) | (df2016['OTHERCPT3'] == 22612) | (df2016['OTHERCPT4'] == 22612) | (df2016['OTHERCPT5'] == 22612) | (df2016['OTHERCPT6'] == 22612) | (df2016['OTHERCPT7'] == 22612) | (df2016['OTHERCPT8'] == 22612) | (df2016['OTHERCPT9'] == 22612) | (df2016['OTHERCPT10'] == 22612) | (df2016['CPT'] == 22630) | (df2016['CONCPT1'] == 22630) | (df2016['CONCPT2'] == 22630) | (df2016['CONCPT3'] == 22630) | (df2016['CONCPT4'] == 22630) | (df2016['CONCPT5'] == 22630) | (df2016['CONCPT6'] == 22630) | (df2016['CONCPT7'] == 22630) | (df2016['CONCPT8'] == 22630) | (df2016['CONCPT9'] == 22630) | (df2016['CONCPT10'] == 22630) | (df2016['OTHERCPT1'] == 22630) | (df2016['OTHERCPT2'] == 22630) | (df2016['OTHERCPT3'] == 22630) | (df2016['OTHERCPT4'] == 22630) | (df2016['OTHERCPT5'] == 22630) | (df2016['OTHERCPT6'] == 22630) | (df2016['OTHERCPT7'] == 22630) | (df2016['OTHERCPT8'] == 22630) | (df2016['OTHERCPT9'] == 22630) | (df2016['OTHERCPT10'] == 22630) | (df2016['CPT'] == 22633) | (df2016['CONCPT1'] == 22633) | (df2016['CONCPT2'] == 22633) | (df2016['CONCPT3'] == 22633) | (df2016['CONCPT4'] == 22633) | (df2016['CONCPT5'] == 22633) | (df2016['CONCPT6'] == 22633) | (df2016['CONCPT7'] == 22633) | (df2016['CONCPT8'] == 22633) | (df2016['CONCPT9'] == 22633) | (df2016['CONCPT10'] == 22633) | (df2016['OTHERCPT1'] == 22633) | (df2016['OTHERCPT2'] == 22633) | (df2016['OTHERCPT3'] == 22633) | (df2016['OTHERCPT4'] == 22633) | (df2016['OTHERCPT5'] == 22633) | (df2016['OTHERCPT6'] == 22633) | (df2016['OTHERCPT7'] == 22633) | (df2016['OTHERCPT8'] == 22633) | (df2016['OTHERCPT9'] == 22633) | (df2016['OTHERCPT10'] == 22633)]\n",
    "print(df2016_plf.shape)"
   ]
  },
  {
   "cell_type": "code",
   "execution_count": null,
   "id": "j6quRrNMwWSr",
   "metadata": {
    "id": "j6quRrNMwWSr"
   },
   "outputs": [],
   "source": [
    "#Read 2015 data.\n",
    "\n",
    "df2015 = pd.read_csv(\"/content/drive/MyDrive/NSQIP-PUFs/NSQIP_2015.csv\", index_col = 'CaseID', encoding = 'latin1', low_memory = False)\n",
    "\n",
    "df2015.columns = map(str.upper, df2015.columns)"
   ]
  },
  {
   "cell_type": "code",
   "execution_count": null,
   "id": "yqq_0stxwWS8",
   "metadata": {
    "colab": {
     "base_uri": "https://localhost:8080/"
    },
    "id": "yqq_0stxwWS8",
    "outputId": "a01f7d28-b1d4-44a8-8a3b-7c4460098216"
   },
   "outputs": [],
   "source": [
    "#Check 2015 data shape.\n",
    "\n",
    "df2015.shape"
   ]
  },
  {
   "cell_type": "code",
   "execution_count": null,
   "id": "GXE8EFZjwWS9",
   "metadata": {
    "colab": {
     "base_uri": "https://localhost:8080/"
    },
    "id": "GXE8EFZjwWS9",
    "outputId": "ab794117-d1c6-4b25-be95-91bc9dcf1411"
   },
   "outputs": [],
   "source": [
    "#Identify PLF with CPT codes.\n",
    "\n",
    "df2015_plf = df2015[(df2015['CPT'] == 22612) | (df2015['CONCPT1'] == 22612) | (df2015['CONCPT2'] == 22612) | (df2015['CONCPT3'] == 22612) | (df2015['CONCPT4'] == 22612) | (df2015['CONCPT5'] == 22612) | (df2015['CONCPT6'] == 22612) | (df2015['CONCPT7'] == 22612) | (df2015['CONCPT8'] == 22612) | (df2015['CONCPT9'] == 22612) | (df2015['CONCPT10'] == 22612) | (df2015['OTHERCPT1'] == 22612) | (df2015['OTHERCPT2'] == 22612) | (df2015['OTHERCPT3'] == 22612) | (df2015['OTHERCPT4'] == 22612) | (df2015['OTHERCPT5'] == 22612) | (df2015['OTHERCPT6'] == 22612) | (df2015['OTHERCPT7'] == 22612) | (df2015['OTHERCPT8'] == 22612) | (df2015['OTHERCPT9'] == 22612) | (df2015['OTHERCPT10'] == 22612) | (df2015['CPT'] == 22630) | (df2015['CONCPT1'] == 22630) | (df2015['CONCPT2'] == 22630) | (df2015['CONCPT3'] == 22630) | (df2015['CONCPT4'] == 22630) | (df2015['CONCPT5'] == 22630) | (df2015['CONCPT6'] == 22630) | (df2015['CONCPT7'] == 22630) | (df2015['CONCPT8'] == 22630) | (df2015['CONCPT9'] == 22630) | (df2015['CONCPT10'] == 22630) | (df2015['OTHERCPT1'] == 22630) | (df2015['OTHERCPT2'] == 22630) | (df2015['OTHERCPT3'] == 22630) | (df2015['OTHERCPT4'] == 22630) | (df2015['OTHERCPT5'] == 22630) | (df2015['OTHERCPT6'] == 22630) | (df2015['OTHERCPT7'] == 22630) | (df2015['OTHERCPT8'] == 22630) | (df2015['OTHERCPT9'] == 22630) | (df2015['OTHERCPT10'] == 22630) | (df2015['CPT'] == 22633) | (df2015['CONCPT1'] == 22633) | (df2015['CONCPT2'] == 22633) | (df2015['CONCPT3'] == 22633) | (df2015['CONCPT4'] == 22633) | (df2015['CONCPT5'] == 22633) | (df2015['CONCPT6'] == 22633) | (df2015['CONCPT7'] == 22633) | (df2015['CONCPT8'] == 22633) | (df2015['CONCPT9'] == 22633) | (df2015['CONCPT10'] == 22633) | (df2015['OTHERCPT1'] == 22633) | (df2015['OTHERCPT2'] == 22633) | (df2015['OTHERCPT3'] == 22633) | (df2015['OTHERCPT4'] == 22633) | (df2015['OTHERCPT5'] == 22633) | (df2015['OTHERCPT6'] == 22633) | (df2015['OTHERCPT7'] == 22633) | (df2015['OTHERCPT8'] == 22633) | (df2015['OTHERCPT9'] == 22633) | (df2015['OTHERCPT10'] == 22633)]\n",
    "print(df2015_plf.shape)"
   ]
  },
  {
   "cell_type": "code",
   "execution_count": null,
   "id": "zLl2Z0XDwYc7",
   "metadata": {
    "id": "zLl2Z0XDwYc7"
   },
   "outputs": [],
   "source": [
    "#Read 2014 data.\n",
    "\n",
    "df2014 = pd.read_csv(\"/content/drive/MyDrive/NSQIP-PUFs/NSQIP_2014.csv\", index_col = 'CaseID', encoding = 'latin1', low_memory = False)\n",
    "\n",
    "df2016.columns = map(str.upper, df2016.columns)"
   ]
  },
  {
   "cell_type": "code",
   "execution_count": null,
   "id": "8DqBjYe8wYc9",
   "metadata": {
    "colab": {
     "base_uri": "https://localhost:8080/"
    },
    "id": "8DqBjYe8wYc9",
    "outputId": "1096b9ce-cf21-415a-cb3d-b0c588c3969b"
   },
   "outputs": [],
   "source": [
    "#Check 2014 data shape.\n",
    "\n",
    "df2014.shape"
   ]
  },
  {
   "cell_type": "code",
   "execution_count": null,
   "id": "C9Fp_ZypwYc9",
   "metadata": {
    "colab": {
     "base_uri": "https://localhost:8080/"
    },
    "id": "C9Fp_ZypwYc9",
    "outputId": "fe05bc50-32b6-406e-cf8d-b8598f800166"
   },
   "outputs": [],
   "source": [
    "#Identify PLF with CPT codes.\n",
    "\n",
    "df2014_plf = df2014[(df2014['CPT'] == 22612) | (df2014['CONCPT1'] == 22612) | (df2014['CONCPT2'] == 22612) | (df2014['CONCPT3'] == 22612) | (df2014['CONCPT4'] == 22612) | (df2014['CONCPT5'] == 22612) | (df2014['CONCPT6'] == 22612) | (df2014['CONCPT7'] == 22612) | (df2014['CONCPT8'] == 22612) | (df2014['CONCPT9'] == 22612) | (df2014['CONCPT10'] == 22612) | (df2014['OTHERCPT1'] == 22612) | (df2014['OTHERCPT2'] == 22612) | (df2014['OTHERCPT3'] == 22612) | (df2014['OTHERCPT4'] == 22612) | (df2014['OTHERCPT5'] == 22612) | (df2014['OTHERCPT6'] == 22612) | (df2014['OTHERCPT7'] == 22612) | (df2014['OTHERCPT8'] == 22612) | (df2014['OTHERCPT9'] == 22612) | (df2014['OTHERCPT10'] == 22612) | (df2014['CPT'] == 22630) | (df2014['CONCPT1'] == 22630) | (df2014['CONCPT2'] == 22630) | (df2014['CONCPT3'] == 22630) | (df2014['CONCPT4'] == 22630) | (df2014['CONCPT5'] == 22630) | (df2014['CONCPT6'] == 22630) | (df2014['CONCPT7'] == 22630) | (df2014['CONCPT8'] == 22630) | (df2014['CONCPT9'] == 22630) | (df2014['CONCPT10'] == 22630) | (df2014['OTHERCPT1'] == 22630) | (df2014['OTHERCPT2'] == 22630) | (df2014['OTHERCPT3'] == 22630) | (df2014['OTHERCPT4'] == 22630) | (df2014['OTHERCPT5'] == 22630) | (df2014['OTHERCPT6'] == 22630) | (df2014['OTHERCPT7'] == 22630) | (df2014['OTHERCPT8'] == 22630) | (df2014['OTHERCPT9'] == 22630) | (df2014['OTHERCPT10'] == 22630) | (df2014['CPT'] == 22633) | (df2014['CONCPT1'] == 22633) | (df2014['CONCPT2'] == 22633) | (df2014['CONCPT3'] == 22633) | (df2014['CONCPT4'] == 22633) | (df2014['CONCPT5'] == 22633) | (df2014['CONCPT6'] == 22633) | (df2014['CONCPT7'] == 22633) | (df2014['CONCPT8'] == 22633) | (df2014['CONCPT9'] == 22633) | (df2014['CONCPT10'] == 22633) | (df2014['OTHERCPT1'] == 22633) | (df2014['OTHERCPT2'] == 22633) | (df2014['OTHERCPT3'] == 22633) | (df2014['OTHERCPT4'] == 22633) | (df2014['OTHERCPT5'] == 22633) | (df2014['OTHERCPT6'] == 22633) | (df2014['OTHERCPT7'] == 22633) | (df2014['OTHERCPT8'] == 22633) | (df2014['OTHERCPT9'] == 22633) | (df2014['OTHERCPT10'] == 22633)]\n",
    "print(df2014_plf.shape)"
   ]
  },
  {
   "cell_type": "code",
   "execution_count": null,
   "id": "1b7d99af-1e65-4876-af89-7255c85e4160",
   "metadata": {
    "id": "1b7d99af-1e65-4876-af89-7255c85e4160"
   },
   "outputs": [],
   "source": [
    "#Combine data.\n",
    "\n",
    "dfs = [df2014_plf, df2015_plf, df2016_plf, df2017_plf, df2018_plf, df2019_plf, df2020_plf]\n",
    "\n",
    "combined = pd.concat(dfs)"
   ]
  },
  {
   "cell_type": "code",
   "execution_count": null,
   "id": "8618f193-6d71-4a63-8e03-c55a5a87c117",
   "metadata": {
    "colab": {
     "base_uri": "https://localhost:8080/"
    },
    "id": "8618f193-6d71-4a63-8e03-c55a5a87c117",
    "outputId": "24a99b8a-5d20-46a6-e1aa-39b78da75126"
   },
   "outputs": [],
   "source": [
    "#Check data shape.\n",
    "\n",
    "combined.shape"
   ]
  },
  {
   "cell_type": "code",
   "execution_count": null,
   "id": "d1fead1c-70b3-4814-9546-c1e6bfe8fa13",
   "metadata": {
    "colab": {
     "base_uri": "https://localhost:8080/",
     "height": 647
    },
    "id": "d1fead1c-70b3-4814-9546-c1e6bfe8fa13",
    "outputId": "bcb4d65e-f9dc-421d-e977-ae7635160e3e"
   },
   "outputs": [],
   "source": [
    "#See combined dataframe head.\n",
    "\n",
    "combined.head()"
   ]
  },
  {
   "cell_type": "code",
   "execution_count": null,
   "id": "9088cd6b-d531-4450-9913-37be2ac78587",
   "metadata": {
    "colab": {
     "base_uri": "https://localhost:8080/",
     "height": 647
    },
    "id": "9088cd6b-d531-4450-9913-37be2ac78587",
    "outputId": "276dcd09-a665-41e1-b4a6-32a8b0c41623"
   },
   "outputs": [],
   "source": [
    "#See combined dataframe tail.\n",
    "\n",
    "combined.tail()"
   ]
  },
  {
   "cell_type": "code",
   "execution_count": null,
   "id": "cd269ba3-7d20-402e-96f1-c4394e1fef3b",
   "metadata": {
    "id": "cd269ba3-7d20-402e-96f1-c4394e1fef3b"
   },
   "outputs": [],
   "source": [
    "#Save combined data.\n",
    "\n",
    "combined.to_csv('/content/drive/MyDrive/NSQIP-PLF/plf_combined.csv')"
   ]
  }
 ],
 "metadata": {
  "colab": {
   "machine_shape": "hm",
   "provenance": []
  },
  "environment": {
   "kernel": "python3",
   "name": "common-cpu.m100",
   "type": "gcloud",
   "uri": "gcr.io/deeplearning-platform-release/base-cpu:m100"
  },
  "gpuClass": "standard",
  "kernelspec": {
   "display_name": "Python 3 (ipykernel)",
   "language": "python",
   "name": "python3"
  },
  "language_info": {
   "codemirror_mode": {
    "name": "ipython",
    "version": 3
   },
   "file_extension": ".py",
   "mimetype": "text/x-python",
   "name": "python",
   "nbconvert_exporter": "python",
   "pygments_lexer": "ipython3",
   "version": "3.9.13"
  }
 },
 "nbformat": 4,
 "nbformat_minor": 5
}
